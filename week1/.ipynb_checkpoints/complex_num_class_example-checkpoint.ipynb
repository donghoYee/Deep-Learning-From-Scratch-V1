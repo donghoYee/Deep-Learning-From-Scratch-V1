{
 "cells": [
  {
   "cell_type": "code",
   "execution_count": 1,
   "id": "39091ba4",
   "metadata": {},
   "outputs": [],
   "source": [
    "#definition of class complex_num"
   ]
  },
  {
   "cell_type": "code",
   "execution_count": 7,
   "id": "21b918bb",
   "metadata": {},
   "outputs": [],
   "source": [
    "class complex_num:\n",
    "    def __init__(self, real=0, imaginary=0):\n",
    "        self.r = real\n",
    "        self.i = imaginary\n",
    "        pass\n",
    "    def __add__(self, other):\n",
    "        temp = complex_num(self.r + other.r, self.i + other.i)\n",
    "        return temp\n",
    "    \n",
    "    def __sub__(self, other):\n",
    "        temp = complex_num(self.r - other.r, self.i - other.i)\n",
    "        return temp\n",
    "    \n",
    "    def __mul__(self, other):\n",
    "        temp = complex_num(self.r * other.r - self.i * other.i, self.r * other.i + self.i * other.r)\n",
    "        return temp\n",
    "    \n",
    "    def __str__(self):\n",
    "        if(self.i < 0):\n",
    "            return str(self.r) + \"   \" + str(self.i)+\"i\"\n",
    "        return str(self.r) + \" + \" + str(self.i)+\"i\"\n",
    "            \n",
    "    "
   ]
  },
  {
   "cell_type": "code",
   "execution_count": 8,
   "id": "a24803ee",
   "metadata": {},
   "outputs": [
    {
     "name": "stdout",
     "output_type": "stream",
     "text": [
      "1 + 2i\n",
      "3 + 4i\n",
      "4 + 6i\n",
      "-2   -2i\n",
      "-5 + 10i\n"
     ]
    }
   ],
   "source": [
    "comp1 = complex_num(1, 2)\n",
    "comp2 = complex_num(3, 4)\n",
    "\n",
    "comp3 = comp1 + comp2\n",
    "comp4 = comp1 - comp2\n",
    "comp5 = comp1 * comp2\n",
    "\n",
    "print(comp1)\n",
    "print(comp2)\n",
    "print(comp3)\n",
    "print(comp4)\n",
    "print(comp5)"
   ]
  },
  {
   "cell_type": "code",
   "execution_count": null,
   "id": "952d4bb1",
   "metadata": {},
   "outputs": [],
   "source": []
  }
 ],
 "metadata": {
  "kernelspec": {
   "display_name": "Python [conda env:my_proj]",
   "language": "python",
   "name": "conda-env-my_proj-py"
  },
  "language_info": {
   "codemirror_mode": {
    "name": "ipython",
    "version": 3
   },
   "file_extension": ".py",
   "mimetype": "text/x-python",
   "name": "python",
   "nbconvert_exporter": "python",
   "pygments_lexer": "ipython3",
   "version": "3.10.0"
  }
 },
 "nbformat": 4,
 "nbformat_minor": 5
}
