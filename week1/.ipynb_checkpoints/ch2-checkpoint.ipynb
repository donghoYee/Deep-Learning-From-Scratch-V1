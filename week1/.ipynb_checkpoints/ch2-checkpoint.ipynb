{
 "cells": [
  {
   "cell_type": "code",
   "execution_count": 36,
   "id": "ac3dedcc",
   "metadata": {},
   "outputs": [],
   "source": [
    "import matplotlib.pyplot as plt\n",
    "import numpy as np\n",
    "\n",
    "def show_simple_perceptron(func):\n",
    "    x1_list = [0,0,1,1]\n",
    "    x2_list = [0,1,0,1]\n",
    "    for (x1, x2) in zip(x1_list, x2_list):\n",
    "        if func(x1, x2) == 1:\n",
    "            plt.scatter(x1, x2, c='b')\n",
    "            plt.text(x1+.03, x2+.03, '1', fontsize=9)\n",
    "        else:\n",
    "            plt.scatter(x1, [x2], c='r')\n",
    "            plt.text(x1+.03, x2+.03, '0', fontsize=9)\n",
    "            \n",
    "    plt.show()\n",
    "    "
   ]
  },
  {
   "cell_type": "code",
   "execution_count": 37,
   "id": "8f5b1358",
   "metadata": {},
   "outputs": [],
   "source": [
    "# make simple perceptron\n",
    "\n",
    "def AND(x1, x2):\n",
    "    w1, w2, theta = 0.5, 0.5, 0.7\n",
    "    if w1 * x1 + w2 * x2 > theta :\n",
    "        return 1\n",
    "    return 0"
   ]
  },
  {
   "cell_type": "code",
   "execution_count": 38,
   "id": "7a1db671",
   "metadata": {},
   "outputs": [],
   "source": [
    "def OR(x1, x2):\n",
    "    w1, w2, theta = 0.5, 0.5, 0.3\n",
    "    if w1 * x1 + w2 * x2 > theta :\n",
    "        return 1\n",
    "    return 0"
   ]
  },
  {
   "cell_type": "code",
   "execution_count": 39,
   "id": "1e075b81",
   "metadata": {},
   "outputs": [],
   "source": [
    "def NAND(x1, x2):\n",
    "    w1, w2, theta = -0.5, -0.5, -0.7\n",
    "    if w1 * x1 + w2 * x2 > theta :\n",
    "        return 1\n",
    "    return 0"
   ]
  },
  {
   "cell_type": "markdown",
   "id": "0e5ee7aa",
   "metadata": {},
   "source": [
    "# NOT Possible with linear perceptron"
   ]
  },
  {
   "cell_type": "code",
   "execution_count": 45,
   "id": "ec1a7f7b",
   "metadata": {},
   "outputs": [],
   "source": [
    "def XOR(x1, x2):\n",
    "    return AND(OR(x1, x2), NAND(x1, x2))"
   ]
  },
  {
   "cell_type": "code",
   "execution_count": 40,
   "id": "66e0b398",
   "metadata": {},
   "outputs": [
    {
     "data": {
      "image/png": "[encoded data removed]",
      "text/plain": [
       "<Figure size 432x288 with 1 Axes>"
      ]
     },
     "metadata": {
      "needs_background": "light"
     },
     "output_type": "display_data"
    }
   ],
   "source": [
    "show_simple_perceptron(AND)"
   ]
  },
  {
   "cell_type": "code",
   "execution_count": 41,
   "id": "cfc8a872",
   "metadata": {},
   "outputs": [
    {
     "data": {
      "image/png": "[encoded data removed]",
      "text/plain": [
       "<Figure size 432x288 with 1 Axes>"
      ]
     },
     "metadata": {
      "needs_background": "light"
     },
     "output_type": "display_data"
    }
   ],
   "source": [
    "show_simple_perceptron(OR)"
   ]
  },
  {
   "cell_type": "code",
   "execution_count": 42,
   "id": "328e7595",
   "metadata": {},
   "outputs": [
    {
     "data": {
      "image/png": "[encoded data removed]",
      "text/plain": [
       "<Figure size 432x288 with 1 Axes>"
      ]
     },
     "metadata": {
      "needs_background": "light"
     },
     "output_type": "display_data"
    }
   ],
   "source": [
    "show_simple_perceptron(NAND)"
   ]
  },
  {
   "cell_type": "code",
   "execution_count": 46,
   "id": "3ff31e6b",
   "metadata": {},
   "outputs": [
    {
     "data": {
      "image/png": "[encoded data removed]",
      "text/plain": [
       "<Figure size 432x288 with 1 Axes>"
      ]
     },
     "metadata": {
      "needs_background": "light"
     },
     "output_type": "display_data"
    }
   ],
   "source": [
    "show_simple_perceptron(XOR)"
   ]
  },
  {
   "cell_type": "code",
   "execution_count": null,
   "id": "76684ecb",
   "metadata": {},
   "outputs": [],
   "source": []
  }
 ],
 "metadata": {
  "kernelspec": {
   "display_name": "Python [conda env:my_proj]",
   "language": "python",
   "name": "conda-env-my_proj-py"
  },
  "language_info": {
   "codemirror_mode": {
    "name": "ipython",
    "version": 3
   },
   "file_extension": ".py",
   "mimetype": "text/x-python",
   "name": "python",
   "nbconvert_exporter": "python",
   "pygments_lexer": "ipython3",
   "version": "3.10.0"
  }
 },
 "nbformat": 4,
 "nbformat_minor": 5
}
