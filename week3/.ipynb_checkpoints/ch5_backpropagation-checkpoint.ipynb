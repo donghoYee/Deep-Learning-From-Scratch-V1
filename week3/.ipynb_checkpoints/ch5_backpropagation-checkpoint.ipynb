{
 "cells": [
  {
   "cell_type": "code",
   "execution_count": 4,
   "id": "b8d3422f",
   "metadata": {},
   "outputs": [],
   "source": [
    "class MulLayer:\n",
    "    def __init__(self):\n",
    "        self.x= None\n",
    "        self.y = None\n",
    "    def forward(self, x_, y_):\n",
    "        self.x = x_\n",
    "        self.y = y_ # need to store values for later back propagation!\n",
    "        out = x_ * y_ \n",
    "        return out\n",
    "    def backward(self, dout):\n",
    "        dx = dout * self.y\n",
    "        dy = dout * self.x\n",
    "        return dx, dy"
   ]
  },
  {
   "cell_type": "code",
   "execution_count": 6,
   "id": "7376bbc5",
   "metadata": {},
   "outputs": [
    {
     "name": "stdout",
     "output_type": "stream",
     "text": [
      "220.00000000000003\n"
     ]
    }
   ],
   "source": [
    "apple = 100\n",
    "apple_num = 2\n",
    "tax = 1.1\n",
    "\n",
    "mul_apple_layer = MulLayer()\n",
    "mul_tax_layer = MulLayer()\n",
    "\n",
    "apple_price = mul_apple_layer.forward(apple, apple_num)\n",
    "price = mul_tax_layer.forward(apple_price, tax)\n",
    "\n",
    "print(price)"
   ]
  },
  {
   "cell_type": "code",
   "execution_count": 7,
   "id": "9e1fc22e",
   "metadata": {},
   "outputs": [
    {
     "name": "stdout",
     "output_type": "stream",
     "text": [
      "d_apple_price 1.1\n",
      "d_tax 200\n",
      "d_apple 2.2\n",
      "d_apple_num 110.00000000000001\n"
     ]
    }
   ],
   "source": [
    "d_price = 1\n",
    "d_apple_price, d_tax = mul_tax_layer.backward(d_price)\n",
    "d_apple, d_apple_num = mul_apple_layer.backward(d_apple_price)\n",
    "\n",
    "print(\"d_apple_price\", d_apple_price)\n",
    "print(\"d_tax\", d_tax)\n",
    "print(\"d_apple\", d_apple)\n",
    "print(\"d_apple_num\", d_apple_num)"
   ]
  },
  {
   "cell_type": "code",
   "execution_count": 8,
   "id": "201f3020",
   "metadata": {},
   "outputs": [],
   "source": [
    "class AddLayer:\n",
    "    def __init__(self):\n",
    "        pass\n",
    "    def forward(self, x_, y_):\n",
    "        return x_ + y_\n",
    "    def backward(self, dout):\n",
    "        return dout, dout"
   ]
  },
  {
   "cell_type": "code",
   "execution_count": 9,
   "id": "ef1619c6",
   "metadata": {},
   "outputs": [
    {
     "data": {
      "text/plain": [
       "(2, 2)"
      ]
     },
     "execution_count": 9,
     "metadata": {},
     "output_type": "execute_result"
    }
   ],
   "source": [
    "AddLayer().backward(2)"
   ]
  },
  {
   "cell_type": "code",
   "execution_count": 10,
   "id": "86014b2e",
   "metadata": {},
   "outputs": [],
   "source": [
    "class Relu:\n",
    "    def __init__(self):\n",
    "        self.mask = None\n",
    "    def forward(self, x):\n",
    "        self.mask = (x <= 0)\n",
    "        out = x.copy()\n",
    "        out[self.mask] = 0\n",
    "        return out\n",
    "    def backward(self, dout):\n",
    "        dout[self.mask] = 0\n",
    "        return dout"
   ]
  },
  {
   "cell_type": "code",
   "execution_count": 11,
   "id": "9b48b367",
   "metadata": {},
   "outputs": [],
   "source": [
    "import numpy as np\n",
    "class sigmoid:\n",
    "    def __init__(self):\n",
    "        self.out = None #because it has to use the output for backpropagation!\n",
    "        pass\n",
    "    def forward(self, x):\n",
    "        self.out = 1 / (1 + np.exp(-x))\n",
    "        return self.out\n",
    "    def backward(self, dout):\n",
    "        return dout * self.out * (1.0-self.out)"
   ]
  },
  {
   "cell_type": "code",
   "execution_count": 12,
   "id": "8ba72607",
   "metadata": {},
   "outputs": [],
   "source": [
    "class Affine:\n",
    "    def __init__(self, W_, b_):\n",
    "        self.W = W_\n",
    "        self.b = b_\n",
    "        self.x = None\n",
    "        self.dW = None\n",
    "        self.db = None # because this class' backward only returns dx -> we have to store other var!\n",
    "    def forward(self, x_):\n",
    "        self.x = x_\n",
    "        return x_ @ self.W + self.b\n",
    "    def backward(self, dout):\n",
    "        self.db = np.sum(dout, axes=0)\n",
    "        self.dW = (self.x.T) @ dout\n",
    "        return dout @ (self.W.T)"
   ]
  },
  {
   "cell_type": "code",
   "execution_count": 13,
   "id": "92119335",
   "metadata": {},
   "outputs": [],
   "source": [
    "import sys\n",
    "sys.path.append(\"..\")"
   ]
  },
  {
   "cell_type": "code",
   "execution_count": 15,
   "id": "bfc5dbe4",
   "metadata": {},
   "outputs": [],
   "source": [
    "from DLFS_book.common.functions import softmax, cross_entropy_error"
   ]
  },
  {
   "cell_type": "code",
   "execution_count": 16,
   "id": "19e25e4c",
   "metadata": {},
   "outputs": [],
   "source": [
    "class SoftmaxWithLoss:\n",
    "    def __init__(self):\n",
    "        self.loss = None\n",
    "        self.y = None\n",
    "        self.t = None\n",
    "    def forward(self, x, t):\n",
    "        self.t = t\n",
    "        self.y = softmax(x)\n",
    "        self.loss = cross_entropy_error(self.y, self.t) # returns a scalar for each data!\n",
    "        return self.loss\n",
    "    def backward(self, dout=1):\n",
    "        return dout * (self.y-self.t) / self.t.shape[0]\n",
    "    "
   ]
  },
  {
   "cell_type": "code",
   "execution_count": null,
   "id": "9cd17fd5",
   "metadata": {},
   "outputs": [],
   "source": []
  }
 ],
 "metadata": {
  "kernelspec": {
   "display_name": "Python [conda env:my_proj]",
   "language": "python",
   "name": "conda-env-my_proj-py"
  },
  "language_info": {
   "codemirror_mode": {
    "name": "ipython",
    "version": 3
   },
   "file_extension": ".py",
   "mimetype": "text/x-python",
   "name": "python",
   "nbconvert_exporter": "python",
   "pygments_lexer": "ipython3",
   "version": "3.10.0"
  }
 },
 "nbformat": 4,
 "nbformat_minor": 5
}
