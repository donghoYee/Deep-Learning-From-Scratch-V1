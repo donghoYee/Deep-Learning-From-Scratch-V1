{
 "cells": [
  {
   "cell_type": "code",
   "execution_count": 2,
   "id": "d195ded6",
   "metadata": {},
   "outputs": [],
   "source": [
    "import sys, os\n",
    "sys.path.append(\"../DLFS_book\") # Use this to append directory!!\n",
    "import numpy as np"
   ]
  },
  {
   "cell_type": "code",
   "execution_count": 4,
   "id": "d26d84dd",
   "metadata": {},
   "outputs": [],
   "source": [
    "\n",
    "from common.functions import *\n",
    "from common.gradient import numerical_gradient\n",
    "from common.layers import *\n",
    "from collections import OrderedDict"
   ]
  },
  {
   "cell_type": "code",
   "execution_count": 97,
   "id": "b4c5445b",
   "metadata": {},
   "outputs": [],
   "source": [
    "class ThreeLayerNet:\n",
    "    def __init__(self, input_size, hidden1_size, hidden2_size, output_size, weight_init_std=0.01):\n",
    "        self.params= {}\n",
    "        \n",
    "        self.params[\"W1\"] = weight_init_std * np.random.randn(input_size, hidden1_size)\n",
    "        self.params[\"b1\"] = np.zeros(hidden1_size)\n",
    "        \n",
    "        self.params[\"W2\"] = weight_init_std * np.random.randn(hidden1_size, hidden2_size)\n",
    "        self.params[\"b2\"] = np.zeros(hidden2_size)\n",
    "        \n",
    "        self.params[\"W3\"] = weight_init_std * np.random.randn(hidden2_size, output_size)\n",
    "        self.params[\"b3\"] = np.zeros(output_size)\n",
    "        \n",
    "        self.layers = OrderedDict()\n",
    "        self.layers['Affine1'] = Affine(self.params[\"W1\"], self.params[\"b1\"])\n",
    "        self.layers[\"Relu1\"] = Relu()\n",
    "        self.layers[\"Affine2\"] = Affine(self.params[\"W2\"], self.params[\"b2\"])\n",
    "        self.layers[\"Sigmoid2\"] = Sigmoid()\n",
    "        self.layers[\"Affine3\"] = Affine(self.params[\"W3\"], self.params[\"b3\"])\n",
    "        \n",
    "        self.lastLayer = SoftmaxWithLoss()\n",
    "        \n",
    "    def predict(self, x):\n",
    "        for layer in self.layers.values():\n",
    "            x = layer.forward(x)\n",
    "        return x\n",
    "    \n",
    "    def loss(self, x, t):\n",
    "        y_pred = self.predict(x)\n",
    "        return self.lastLayer.forward(y_pred, t)\n",
    "        \n",
    "    def accuracy(self, x, y):\n",
    "        y_pred = self.predict(x)\n",
    "        y_pred = np.argmax(y_pred, axis = 1)\n",
    "        y = np.argmax(y, axis= 1)\n",
    "        \n",
    "        accuracy = np.sum(y_pred == y) / float(x.shape[0])\n",
    "        return accuracy\n",
    "    \n",
    "    def numerical_gradient(self, x, t):\n",
    "        \n",
    "        loss_W = lambda W: self.loss(x, t)\n",
    "        \n",
    "        grads = {}\n",
    "        grads[\"W1\"]= numerical_gradient(loss_W, self.params[\"W1\"])\n",
    "        grads[\"W2\"]= numerical_gradient(loss_W, self.params[\"W2\"])\n",
    "        grads[\"W3\"]= numerical_gradient(loss_W, self.params[\"W3\"])\n",
    "        \n",
    "        grads[\"b1\"]= numerical_gradient(loss_W, self.params[\"b1\"])\n",
    "        grads[\"b2\"]= numerical_gradient(loss_W, self.params[\"b2\"])\n",
    "        grads[\"b3\"]= numerical_gradient(loss_W, self.params[\"b3\"])\n",
    "        \n",
    "        return grads\n",
    "    \n",
    "    def gradient(self, x, t):\n",
    "        loss = self.loss(x, t) #doing this forwards all layers!\n",
    "        dout = 1\n",
    "        dout = self.lastLayer.backward(dout)\n",
    "        layers = list(self.layers.values())\n",
    "        layers.reverse()\n",
    "        for layer in layers:\n",
    "            dout = layer.backward(dout)\n",
    "        \n",
    "        grads = {}\n",
    "        grads[\"W1\"] = self.layers[\"Affine1\"].dW                          #store value by ref!!\n",
    "        grads[\"b1\"] = self.layers[\"Affine1\"].db\n",
    "        grads[\"W2\"] = self.layers[\"Affine2\"].dW                          #store value by ref!!\n",
    "        grads[\"b2\"] = self.layers[\"Affine2\"].db\n",
    "        grads[\"W3\"] = self.layers[\"Affine3\"].dW                          #store value by ref!!\n",
    "        grads[\"b3\"] = self.layers[\"Affine3\"].db\n",
    "        \n",
    "        return grads, loss"
   ]
  },
  {
   "cell_type": "code",
   "execution_count": 98,
   "id": "1d509f06",
   "metadata": {},
   "outputs": [],
   "source": [
    "net = ThreeLayerNet(input_size=784, hidden1_size = 300, hidden2_size=100, output_size=10) "
   ]
  },
  {
   "cell_type": "code",
   "execution_count": 99,
   "id": "49475953",
   "metadata": {},
   "outputs": [
    {
     "data": {
      "text/plain": [
       "(784, 300)"
      ]
     },
     "execution_count": 99,
     "metadata": {},
     "output_type": "execute_result"
    }
   ],
   "source": [
    "net.params[\"W1\"].shape"
   ]
  },
  {
   "cell_type": "code",
   "execution_count": 100,
   "id": "de60bcc4",
   "metadata": {},
   "outputs": [],
   "source": [
    "x = np.random.rand(100, 784)\n",
    "t = np.random.rand(100, 10)\n",
    "y = net.predict(x)\n",
    "grads, loss = net.gradient(x, t)\n",
    "\n",
    "#net.params -= alpha * net.grads  # 학습 1번"
   ]
  },
  {
   "cell_type": "code",
   "execution_count": 101,
   "id": "3d595c2a",
   "metadata": {},
   "outputs": [
    {
     "name": "stdout",
     "output_type": "stream",
     "text": [
      "(784, 300)\n"
     ]
    }
   ],
   "source": [
    "print(grads[\"W1\"].shape)"
   ]
  },
  {
   "cell_type": "code",
   "execution_count": 102,
   "id": "a6a1bde6",
   "metadata": {},
   "outputs": [],
   "source": [
    "from dataset.mnist import load_mnist\n",
    "(X_train, t_train), (X_test, t_test) = load_mnist(normalize=True, one_hot_label=True)"
   ]
  },
  {
   "cell_type": "code",
   "execution_count": 103,
   "id": "cd6813cd",
   "metadata": {},
   "outputs": [],
   "source": [
    "network = ThreeLayerNet(input_size=784, hidden1_size = 300, hidden2_size=100, output_size=10) "
   ]
  },
  {
   "cell_type": "code",
   "execution_count": 104,
   "id": "2f03f43f",
   "metadata": {},
   "outputs": [],
   "source": [
    "X_batch = X_train[:3]\n",
    "t_batch = t_train[:3]"
   ]
  },
  {
   "cell_type": "code",
   "execution_count": 106,
   "id": "7d5acbf8",
   "metadata": {},
   "outputs": [
    {
     "name": "stdout",
     "output_type": "stream",
     "text": [
      "numerical gradient took 0:02:03.721325\n",
      "gradient backpropagation took 0:00:00.002056\n"
     ]
    }
   ],
   "source": [
    "from timeit import default_timer as timer\n",
    "from datetime import timedelta\n",
    "\n",
    "start = timer()\n",
    "grad_numerical = network.numerical_gradient(X_batch, t_batch)\n",
    "end = timer()\n",
    "print(\"numerical gradient\" + \" took \" + str(timedelta(seconds=end-start)))\n",
    "\n",
    "start = timer()\n",
    "grad_backprop, loss = network.gradient(X_batch, t_batch)\n",
    "end = timer()\n",
    "print(\"gradient backpropagation\" + \" took \" + str(timedelta(seconds=end-start)))"
   ]
  },
  {
   "cell_type": "code",
   "execution_count": 107,
   "id": "9ddae330",
   "metadata": {},
   "outputs": [
    {
     "name": "stdout",
     "output_type": "stream",
     "text": [
      "W1 : 9.503776319537621e-10\n",
      "W2 : 5.3364813487072873e-11\n",
      "W3 : 7.276146984729753e-08\n",
      "b1 : 2.1514211288780165e-08\n",
      "b2 : 1.0127971820084982e-09\n",
      "b3 : 1.454427190780705e-07\n"
     ]
    }
   ],
   "source": [
    "for key in grad_numerical.keys():\n",
    "    diff = np.average(np.abs(grad_numerical[key] - grad_backprop[key]))\n",
    "    print(key, \":\", diff)"
   ]
  },
  {
   "cell_type": "markdown",
   "id": "51873c3c",
   "metadata": {},
   "source": [
    "## Train Our ThreeLayerNet model with mnist"
   ]
  },
  {
   "cell_type": "code",
   "execution_count": 108,
   "id": "a83c1e7a",
   "metadata": {},
   "outputs": [
    {
     "name": "stdout",
     "output_type": "stream",
     "text": [
      "0.0 % train accuracy:  0.10218333333333333  test accuracy:  0.101\n",
      "4.0 % train accuracy:  0.16115  test accuracy:  0.1586\n",
      "8.0 % train accuracy:  0.6936  test accuracy:  0.7038\n",
      "12.0 % train accuracy:  0.8388833333333333  test accuracy:  0.8401\n",
      "16.0 % train accuracy:  0.8901166666666667  test accuracy:  0.8899\n",
      "20.0 % train accuracy:  0.91095  test accuracy:  0.9119\n",
      "24.0 % train accuracy:  0.9238833333333333  test accuracy:  0.9253\n",
      "28.000000000000004 % train accuracy:  0.93415  test accuracy:  0.9337\n",
      "32.0 % train accuracy:  0.9417833333333333  test accuracy:  0.942\n",
      "36.0 % train accuracy:  0.9499  test accuracy:  0.9478\n",
      "40.0 % train accuracy:  0.9551333333333333  test accuracy:  0.9532\n",
      "44.0 % train accuracy:  0.9585166666666667  test accuracy:  0.9554\n",
      "48.0 % train accuracy:  0.9636  test accuracy:  0.9596\n",
      "52.0 % train accuracy:  0.9659  test accuracy:  0.9607\n",
      "56.00000000000001 % train accuracy:  0.9698166666666667  test accuracy:  0.965\n",
      "60.0 % train accuracy:  0.9720833333333333  test accuracy:  0.967\n",
      "64.0 % train accuracy:  0.9738333333333333  test accuracy:  0.9677\n",
      "68.0 % train accuracy:  0.9770666666666666  test accuracy:  0.9702\n",
      "72.0 % train accuracy:  0.9785  test accuracy:  0.9716\n",
      "76.0 % train accuracy:  0.9800333333333333  test accuracy:  0.9714\n",
      "80.0 % train accuracy:  0.9817166666666667  test accuracy:  0.9723\n",
      "84.0 % train accuracy:  0.9835666666666667  test accuracy:  0.973\n",
      "88.0 % train accuracy:  0.9837833333333333  test accuracy:  0.9729\n",
      "92.0 % train accuracy:  0.9853666666666666  test accuracy:  0.973\n",
      "96.0 % train accuracy:  0.98615  test accuracy:  0.9734\n"
     ]
    }
   ],
   "source": [
    "network = ThreeLayerNet(input_size=784, hidden1_size = 300, hidden2_size=100, output_size=10) \n",
    "\n",
    "iters_num = 15000 #how many batches shall we use?\n",
    "train_size = X_train.shape[0]\n",
    "batch_size = 100\n",
    "learning_rate = 0.1\n",
    "\n",
    "train_loss_list = []\n",
    "train_acc_list = []\n",
    "test_acc_list = []\n",
    "\n",
    "iter_per_epoch = max(int(train_size / batch_size), 1) # how many batches per one train data?\n",
    "\n",
    "for i in range(iters_num):\n",
    "    batch_mask = np.random.choice(train_size, batch_size)\n",
    "    X_batch = X_train[batch_mask]\n",
    "    t_batch = t_train[batch_mask]\n",
    "    \n",
    "    grad, loss = network.gradient(X_batch, t_batch)\n",
    "    \n",
    "    for key in grad.keys():\n",
    "        network.params[key] -= learning_rate * grad[key]\n",
    "        \n",
    "    train_loss_list.append(loss)\n",
    "    \n",
    "    if(i % iter_per_epoch == 0):\n",
    "        train_acc = network.accuracy(X_train, t_train)\n",
    "        train_acc_list.append(train_acc)\n",
    "        test_acc = network.accuracy(X_test, t_test)\n",
    "        test_acc_list.append(test_acc)\n",
    "        print(i / iters_num * 100 , \"% train accuracy: \", train_acc, \" test accuracy: \", test_acc) \n"
   ]
  },
  {
   "cell_type": "code",
   "execution_count": 109,
   "id": "bc48d23e",
   "metadata": {},
   "outputs": [
    {
     "name": "stdout",
     "output_type": "stream",
     "text": [
      "loss list\n"
     ]
    },
    {
     "data": {
      "text/plain": [
       "[<matplotlib.lines.Line2D at 0x7f77fad4ed10>]"
      ]
     },
     "execution_count": 109,
     "metadata": {},
     "output_type": "execute_result"
    },
    {
     "data": {
      "image/png": "[encoded data removed]",
      "text/plain": [
       "<Figure size 432x288 with 1 Axes>"
      ]
     },
     "metadata": {
      "needs_background": "light"
     },
     "output_type": "display_data"
    }
   ],
   "source": [
    "import matplotlib.pyplot as plt\n",
    "print(\"loss list\")\n",
    "plt.plot(range(len(train_loss_list)), train_loss_list)"
   ]
  },
  {
   "cell_type": "code",
   "execution_count": 110,
   "id": "fd8aef64",
   "metadata": {},
   "outputs": [
    {
     "name": "stdout",
     "output_type": "stream",
     "text": [
      "train and test accuracy list\n"
     ]
    },
    {
     "data": {
      "text/plain": [
       "[<matplotlib.lines.Line2D at 0x7f77fcacb7f0>]"
      ]
     },
     "execution_count": 110,
     "metadata": {},
     "output_type": "execute_result"
    },
    {
     "data": {
      "image/png": "[encoded data removed]",
      "text/plain": [
       "<Figure size 432x288 with 1 Axes>"
      ]
     },
     "metadata": {
      "needs_background": "light"
     },
     "output_type": "display_data"
    }
   ],
   "source": [
    "print(\"train and test accuracy list\")\n",
    "plt.plot(range(len(train_acc_list)), train_acc_list, 'b')\n",
    "plt.plot(range(len(test_acc_list)), test_acc_list, 'r')"
   ]
  },
  {
   "cell_type": "markdown",
   "id": "d2635fa7",
   "metadata": {},
   "source": [
    "# Almost a perfect Model!"
   ]
  }
 ],
 "metadata": {
  "kernelspec": {
   "display_name": "Python [conda env:my_proj]",
   "language": "python",
   "name": "conda-env-my_proj-py"
  },
  "language_info": {
   "codemirror_mode": {
    "name": "ipython",
    "version": 3
   },
   "file_extension": ".py",
   "mimetype": "text/x-python",
   "name": "python",
   "nbconvert_exporter": "python",
   "pygments_lexer": "ipython3",
   "version": "3.10.0"
  }
 },
 "nbformat": 4,
 "nbformat_minor": 5
}
