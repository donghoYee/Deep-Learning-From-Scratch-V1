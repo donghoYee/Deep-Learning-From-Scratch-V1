{
 "cells": [
  {
   "cell_type": "code",
   "execution_count": 92,
   "id": "68f17a48",
   "metadata": {},
   "outputs": [],
   "source": [
    "import numpy as np\n",
    "import matplotlib as plt"
   ]
  },
  {
   "cell_type": "markdown",
   "id": "8d7b560f",
   "metadata": {},
   "source": [
    "## Optimizer Compare"
   ]
  },
  {
   "cell_type": "code",
   "execution_count": 93,
   "id": "3d153292",
   "metadata": {},
   "outputs": [],
   "source": [
    "class SGD:\n",
    "    def __init__(self, lr=0.01):\n",
    "        self.lr = lr\n",
    "    def update(self, params, grads):\n",
    "        for key in params.keys():\n",
    "            params[key] -= lr*grads[key]"
   ]
  },
  {
   "cell_type": "code",
   "execution_count": 94,
   "id": "e811ccfc",
   "metadata": {},
   "outputs": [],
   "source": [
    "class Momentum:\n",
    "    def __init__(self, lr=0.01, momemtum=0.9):\n",
    "        self.lr= lr\n",
    "        self.momemtum= momentum\n",
    "        self.v = None\n",
    "    def update(self, params, grads):\n",
    "        if(self.v is None):\n",
    "            self.v = {}\n",
    "            for key, value in params.items():\n",
    "                self.v[key] = np.zeros_like(val)\n",
    "        for key in params.keys():\n",
    "            self.v[key] = self.momentum * self.v[key] - self.lr * grads[key]\n",
    "            params[key] += self.v[key]"
   ]
  },
  {
   "cell_type": "code",
   "execution_count": 95,
   "id": "261ba7b4",
   "metadata": {},
   "outputs": [],
   "source": [
    "class AdaGrad:\n",
    "    def __init__(self, lr=0.01):\n",
    "        self.lr = lr\n",
    "        self.h = None\n",
    "    def update(self, params, grads):\n",
    "        if self.h is None:\n",
    "            self.h = {}\n",
    "            for key, val in params.items():\n",
    "                self.h[key] = np.zeros_like(val)\n",
    "        for key in params.keys():\n",
    "            self.h[key] += grads[key] * grads[key]\n",
    "            params[key] -= self.lr * grads[key] / (np.sqrt(self.h[key]) + 1e-7)"
   ]
  },
  {
   "cell_type": "code",
   "execution_count": 96,
   "id": "130c6587",
   "metadata": {},
   "outputs": [
    {
     "name": "stdout",
     "output_type": "stream",
     "text": [
      "[[ 1  4  9]\n",
      " [16 25 36]]\n"
     ]
    }
   ],
   "source": [
    "grad = np.array([[1,2,3],[4,5,6]])\n",
    "h = grad * grad\n",
    "print(h)"
   ]
  },
  {
   "cell_type": "markdown",
   "id": "865b1012",
   "metadata": {},
   "source": [
    "## Optimizer compare with mnist"
   ]
  },
  {
   "cell_type": "code",
   "execution_count": 97,
   "id": "11ab38e8",
   "metadata": {
    "scrolled": false
   },
   "outputs": [
    {
     "name": "stdout",
     "output_type": "stream",
     "text": [
      "===========iteration:0===========\n",
      "SGD:2.3615394356053656\n",
      "Momentum:2.3240647999028603\n",
      "AdaGrad:2.1604860664834264\n",
      "Adam:2.238878248277156\n",
      "===========iteration:100===========\n",
      "SGD:1.7291073534923949\n",
      "Momentum:0.357852146568232\n",
      "AdaGrad:0.1605078973764426\n",
      "Adam:0.3070705763607061\n",
      "===========iteration:200===========\n",
      "SGD:0.7426556717974102\n",
      "Momentum:0.20570598754319264\n",
      "AdaGrad:0.10818129378862185\n",
      "Adam:0.18070687372529637\n",
      "===========iteration:300===========\n",
      "SGD:0.6151871507039129\n",
      "Momentum:0.2871929957245898\n",
      "AdaGrad:0.0954832087930755\n",
      "Adam:0.19685324608608473\n",
      "===========iteration:400===========\n",
      "SGD:0.3949075884692738\n",
      "Momentum:0.1763463452010891\n",
      "AdaGrad:0.0585917213875697\n",
      "Adam:0.11253620622407388\n",
      "===========iteration:500===========\n",
      "SGD:0.41697209144677844\n",
      "Momentum:0.15666533430937366\n",
      "AdaGrad:0.055040883523051976\n",
      "Adam:0.10033441310839918\n",
      "===========iteration:600===========\n",
      "SGD:0.4501169896904442\n",
      "Momentum:0.2270520811817302\n",
      "AdaGrad:0.16365834668820778\n",
      "Adam:0.1882170526553744\n",
      "===========iteration:700===========\n",
      "SGD:0.29010246081698454\n",
      "Momentum:0.17491243795059652\n",
      "AdaGrad:0.05639576517302168\n",
      "Adam:0.13465068889322707\n",
      "===========iteration:800===========\n",
      "SGD:0.32553768285164264\n",
      "Momentum:0.08560516983788574\n",
      "AdaGrad:0.05370714122887334\n",
      "Adam:0.09093501277286911\n",
      "===========iteration:900===========\n",
      "SGD:0.38226893194264655\n",
      "Momentum:0.125500371788869\n",
      "AdaGrad:0.04148538245692526\n",
      "Adam:0.07876993990133914\n",
      "===========iteration:1000===========\n",
      "SGD:0.20192429233170106\n",
      "Momentum:0.12494375081346555\n",
      "AdaGrad:0.03578120247128353\n",
      "Adam:0.04020722764052162\n",
      "===========iteration:1100===========\n",
      "SGD:0.3198022688370874\n",
      "Momentum:0.1375282563135014\n",
      "AdaGrad:0.04845896263511659\n",
      "Adam:0.08221376586213719\n"
     ]
    },
    {
     "ename": "KeyboardInterrupt",
     "evalue": "",
     "output_type": "error",
     "traceback": [
      "\u001b[0;31m---------------------------------------------------------------------------\u001b[0m",
      "\u001b[0;31mKeyboardInterrupt\u001b[0m                         Traceback (most recent call last)",
      "Input \u001b[0;32mIn [97]\u001b[0m, in \u001b[0;36m<cell line: 38>\u001b[0;34m()\u001b[0m\n\u001b[1;32m     41\u001b[0m t_batch \u001b[38;5;241m=\u001b[39m t_train[batch_mask]\n\u001b[1;32m     43\u001b[0m \u001b[38;5;28;01mfor\u001b[39;00m key \u001b[38;5;129;01min\u001b[39;00m optimizers\u001b[38;5;241m.\u001b[39mkeys():\n\u001b[0;32m---> 44\u001b[0m     grads \u001b[38;5;241m=\u001b[39m \u001b[43mnetworks\u001b[49m\u001b[43m[\u001b[49m\u001b[43mkey\u001b[49m\u001b[43m]\u001b[49m\u001b[38;5;241;43m.\u001b[39;49m\u001b[43mgradient\u001b[49m\u001b[43m(\u001b[49m\u001b[43mx_batch\u001b[49m\u001b[43m,\u001b[49m\u001b[43m \u001b[49m\u001b[43mt_batch\u001b[49m\u001b[43m)\u001b[49m\n\u001b[1;32m     45\u001b[0m     optimizers[key]\u001b[38;5;241m.\u001b[39mupdate(networks[key]\u001b[38;5;241m.\u001b[39mparams, grads)\n\u001b[1;32m     47\u001b[0m     loss \u001b[38;5;241m=\u001b[39m networks[key]\u001b[38;5;241m.\u001b[39mloss(x_batch, t_batch)\n",
      "File \u001b[0;32m~/DLFS1/week4/../DLFS_book/common/multi_layer_net.py:142\u001b[0m, in \u001b[0;36mMultiLayerNet.gradient\u001b[0;34m(self, x, t)\u001b[0m\n\u001b[1;32m    128\u001b[0m \u001b[38;5;124;03m\"\"\"기울기를 구한다(오차역전파법).\u001b[39;00m\n\u001b[1;32m    129\u001b[0m \n\u001b[1;32m    130\u001b[0m \u001b[38;5;124;03mParameters\u001b[39;00m\n\u001b[0;32m   (...)\u001b[0m\n\u001b[1;32m    139\u001b[0m \u001b[38;5;124;03m    grads['b1']、grads['b2']、... 각 층의 편향\u001b[39;00m\n\u001b[1;32m    140\u001b[0m \u001b[38;5;124;03m\"\"\"\u001b[39;00m\n\u001b[1;32m    141\u001b[0m \u001b[38;5;66;03m# forward\u001b[39;00m\n\u001b[0;32m--> 142\u001b[0m \u001b[38;5;28;43mself\u001b[39;49m\u001b[38;5;241;43m.\u001b[39;49m\u001b[43mloss\u001b[49m\u001b[43m(\u001b[49m\u001b[43mx\u001b[49m\u001b[43m,\u001b[49m\u001b[43m \u001b[49m\u001b[43mt\u001b[49m\u001b[43m)\u001b[49m\n\u001b[1;32m    144\u001b[0m \u001b[38;5;66;03m# backward\u001b[39;00m\n\u001b[1;32m    145\u001b[0m dout \u001b[38;5;241m=\u001b[39m \u001b[38;5;241m1\u001b[39m\n",
      "File \u001b[0;32m~/DLFS1/week4/../DLFS_book/common/multi_layer_net.py:87\u001b[0m, in \u001b[0;36mMultiLayerNet.loss\u001b[0;34m(self, x, t)\u001b[0m\n\u001b[1;32m     75\u001b[0m \u001b[38;5;28;01mdef\u001b[39;00m \u001b[38;5;21mloss\u001b[39m(\u001b[38;5;28mself\u001b[39m, x, t):\n\u001b[1;32m     76\u001b[0m     \u001b[38;5;124;03m\"\"\"손실 함수를 구한다.\u001b[39;00m\n\u001b[1;32m     77\u001b[0m \u001b[38;5;124;03m    \u001b[39;00m\n\u001b[1;32m     78\u001b[0m \u001b[38;5;124;03m    Parameters\u001b[39;00m\n\u001b[0;32m   (...)\u001b[0m\n\u001b[1;32m     85\u001b[0m \u001b[38;5;124;03m    손실 함수의 값\u001b[39;00m\n\u001b[1;32m     86\u001b[0m \u001b[38;5;124;03m    \"\"\"\u001b[39;00m\n\u001b[0;32m---> 87\u001b[0m     y \u001b[38;5;241m=\u001b[39m \u001b[38;5;28;43mself\u001b[39;49m\u001b[38;5;241;43m.\u001b[39;49m\u001b[43mpredict\u001b[49m\u001b[43m(\u001b[49m\u001b[43mx\u001b[49m\u001b[43m)\u001b[49m\n\u001b[1;32m     89\u001b[0m     weight_decay \u001b[38;5;241m=\u001b[39m \u001b[38;5;241m0\u001b[39m\n\u001b[1;32m     90\u001b[0m     \u001b[38;5;28;01mfor\u001b[39;00m idx \u001b[38;5;129;01min\u001b[39;00m \u001b[38;5;28mrange\u001b[39m(\u001b[38;5;241m1\u001b[39m, \u001b[38;5;28mself\u001b[39m\u001b[38;5;241m.\u001b[39mhidden_layer_num \u001b[38;5;241m+\u001b[39m \u001b[38;5;241m2\u001b[39m):\n",
      "File \u001b[0;32m~/DLFS1/week4/../DLFS_book/common/multi_layer_net.py:71\u001b[0m, in \u001b[0;36mMultiLayerNet.predict\u001b[0;34m(self, x)\u001b[0m\n\u001b[1;32m     69\u001b[0m \u001b[38;5;28;01mdef\u001b[39;00m \u001b[38;5;21mpredict\u001b[39m(\u001b[38;5;28mself\u001b[39m, x):\n\u001b[1;32m     70\u001b[0m     \u001b[38;5;28;01mfor\u001b[39;00m layer \u001b[38;5;129;01min\u001b[39;00m \u001b[38;5;28mself\u001b[39m\u001b[38;5;241m.\u001b[39mlayers\u001b[38;5;241m.\u001b[39mvalues():\n\u001b[0;32m---> 71\u001b[0m         x \u001b[38;5;241m=\u001b[39m \u001b[43mlayer\u001b[49m\u001b[38;5;241;43m.\u001b[39;49m\u001b[43mforward\u001b[49m\u001b[43m(\u001b[49m\u001b[43mx\u001b[49m\u001b[43m)\u001b[49m\n\u001b[1;32m     73\u001b[0m     \u001b[38;5;28;01mreturn\u001b[39;00m x\n",
      "File \u001b[0;32m~/DLFS1/week4/../DLFS_book/common/layers.py:58\u001b[0m, in \u001b[0;36mAffine.forward\u001b[0;34m(self, x)\u001b[0m\n\u001b[1;32m     55\u001b[0m x \u001b[38;5;241m=\u001b[39m x\u001b[38;5;241m.\u001b[39mreshape(x\u001b[38;5;241m.\u001b[39mshape[\u001b[38;5;241m0\u001b[39m], \u001b[38;5;241m-\u001b[39m\u001b[38;5;241m1\u001b[39m)\n\u001b[1;32m     56\u001b[0m \u001b[38;5;28mself\u001b[39m\u001b[38;5;241m.\u001b[39mx \u001b[38;5;241m=\u001b[39m x\n\u001b[0;32m---> 58\u001b[0m out \u001b[38;5;241m=\u001b[39m \u001b[43mnp\u001b[49m\u001b[38;5;241;43m.\u001b[39;49m\u001b[43mdot\u001b[49m\u001b[43m(\u001b[49m\u001b[38;5;28;43mself\u001b[39;49m\u001b[38;5;241;43m.\u001b[39;49m\u001b[43mx\u001b[49m\u001b[43m,\u001b[49m\u001b[43m \u001b[49m\u001b[38;5;28;43mself\u001b[39;49m\u001b[38;5;241;43m.\u001b[39;49m\u001b[43mW\u001b[49m\u001b[43m)\u001b[49m \u001b[38;5;241m+\u001b[39m \u001b[38;5;28mself\u001b[39m\u001b[38;5;241m.\u001b[39mb\n\u001b[1;32m     60\u001b[0m \u001b[38;5;28;01mreturn\u001b[39;00m out\n",
      "File \u001b[0;32m<__array_function__ internals>:5\u001b[0m, in \u001b[0;36mdot\u001b[0;34m(*args, **kwargs)\u001b[0m\n",
      "\u001b[0;31mKeyboardInterrupt\u001b[0m: "
     ]
    }
   ],
   "source": [
    "# coding: utf-8\n",
    "import os\n",
    "import sys\n",
    "sys.path.append(\"../DLFS_book/\")  # 부모 디렉터리의 파일을 가져올 수 있도록 설정\n",
    "import matplotlib.pyplot as plt\n",
    "from dataset.mnist import load_mnist\n",
    "from common.util import smooth_curve\n",
    "from common.multi_layer_net import MultiLayerNet\n",
    "from common.optimizer import *\n",
    "\n",
    "\n",
    "# 0. MNIST 데이터 읽기==========\n",
    "(x_train, t_train), (x_test, t_test) = load_mnist(normalize=True)\n",
    "\n",
    "train_size = x_train.shape[0]\n",
    "batch_size = 128\n",
    "max_iterations = 2000\n",
    "\n",
    "\n",
    "# 1. 실험용 설정==========\n",
    "optimizers = {}\n",
    "optimizers['SGD'] = SGD()\n",
    "optimizers['Momentum'] = Momentum()\n",
    "optimizers['AdaGrad'] = AdaGrad()\n",
    "optimizers['Adam'] = Adam()\n",
    "#optimizers['RMSprop'] = RMSprop()\n",
    "\n",
    "networks = {}\n",
    "train_loss = {}\n",
    "for key in optimizers.keys():\n",
    "    networks[key] = MultiLayerNet(\n",
    "        input_size=784, hidden_size_list=[100, 100, 100, 100],\n",
    "        output_size=10)\n",
    "    train_loss[key] = []    \n",
    "\n",
    "\n",
    "# 2. 훈련 시작==========\n",
    "for i in range(max_iterations):\n",
    "    batch_mask = np.random.choice(train_size, batch_size)\n",
    "    x_batch = x_train[batch_mask]\n",
    "    t_batch = t_train[batch_mask]\n",
    "    \n",
    "    for key in optimizers.keys():\n",
    "        grads = networks[key].gradient(x_batch, t_batch)\n",
    "        optimizers[key].update(networks[key].params, grads)\n",
    "    \n",
    "        loss = networks[key].loss(x_batch, t_batch)\n",
    "        train_loss[key].append(loss)\n",
    "    \n",
    "    if i % 100 == 0:\n",
    "        print( \"===========\" + \"iteration:\" + str(i) + \"===========\")\n",
    "        for key in optimizers.keys():\n",
    "            loss = networks[key].loss(x_batch, t_batch)\n",
    "            print(key + \":\" + str(loss))\n",
    "\n",
    "\n",
    "# 3. 그래프 그리기==========\n",
    "markers = {\"SGD\": \"o\", \"Momentum\": \"x\", \"AdaGrad\": \"s\", \"Adam\": \"D\"}\n",
    "x = np.arange(max_iterations)\n",
    "for key in optimizers.keys():\n",
    "    plt.plot(x, smooth_curve(train_loss[key]), marker=markers[key], markevery=100, label=key)\n",
    "plt.xlabel(\"iterations\")\n",
    "plt.ylabel(\"loss\")\n",
    "plt.ylim(0, 1)\n",
    "plt.legend()\n",
    "plt.show()\n"
   ]
  },
  {
   "cell_type": "markdown",
   "id": "aa536de4",
   "metadata": {},
   "source": [
    "## Initialization of Weights"
   ]
  },
  {
   "cell_type": "code",
   "execution_count": 98,
   "id": "41ae2434",
   "metadata": {},
   "outputs": [],
   "source": [
    "def sigmoid(x):\n",
    "    return 1 / (1 + np.exp(-x))\n",
    "def ReLU(x):\n",
    "    return np.maximum(0, x)\n",
    "def tanh(x):\n",
    "    return np.tanh(x)"
   ]
  },
  {
   "cell_type": "code",
   "execution_count": 114,
   "id": "efbccceb",
   "metadata": {},
   "outputs": [],
   "source": [
    "x = np.random.randn(1000, 100)  \n",
    "node_num = 100 \n",
    "hidden_layer_size = 5  \n",
    "activations = {} "
   ]
  },
  {
   "cell_type": "code",
   "execution_count": 115,
   "id": "68c5d540",
   "metadata": {},
   "outputs": [],
   "source": [
    "for i in range(hidden_layer_size):\n",
    "    if i != 0:\n",
    "        x = activations[i-1] #앞에 값 가져옴\n",
    "        \n",
    "    #w = np.random.randn(node_num, node_num) * 1 #initialization of weights\n",
    "    #w = np.random.randn(node_num, node_num) * 0.01\n",
    "    w = np.random.randn(node_num, node_num) * np.sqrt(1.0 / node_num)\n",
    "    #w = np.random.randn(node_num, node_num) * np.sqrt(2.0 / node_num)\n",
    "    \n",
    "    a = np.dot(x, w)\n",
    "    #z = sigmoid(a)\n",
    "    #z = ReLU(a)\n",
    "    z = tanh(a)\n",
    "    activations[i] = z"
   ]
  },
  {
   "cell_type": "code",
   "execution_count": 116,
   "id": "5ac2ab83",
   "metadata": {},
   "outputs": [
    {
     "data": {
      "image/png": "[encoded data removed]",
      "text/plain": [
       "<Figure size 432x288 with 5 Axes>"
      ]
     },
     "metadata": {
      "needs_background": "light"
     },
     "output_type": "display_data"
    }
   ],
   "source": [
    "for i, a in activations.items():\n",
    "    plt.subplot(1, len(activations), i+1)\n",
    "    plt.title(str(i+1) + \"-layer\")\n",
    "    if i != 0: \n",
    "        plt.yticks([], [])\n",
    "    plt.hist(a.flatten(), 30, range=(0,1))\n",
    "plt.show()"
   ]
  },
  {
   "cell_type": "markdown",
   "id": "65e64ea5",
   "metadata": {},
   "source": [
    "## Mnist를 통한 가중치 초기값 비교. "
   ]
  },
  {
   "cell_type": "code",
   "execution_count": null,
   "id": "d5115032",
   "metadata": {},
   "outputs": [],
   "source": [
    "import os\n",
    "import sys\n",
    "\n",
    "sys.path.append(\"../DLFS_book\")  \n",
    "import numpy as np\n",
    "import matplotlib.pyplot as plt\n",
    "from dataset.mnist import load_mnist\n",
    "from common.util import smooth_curve\n",
    "from common.multi_layer_net import MultiLayerNet\n",
    "from common.optimizer import SGD"
   ]
  },
  {
   "cell_type": "code",
   "execution_count": 110,
   "id": "fefbff8b",
   "metadata": {},
   "outputs": [
    {
     "name": "stdout",
     "output_type": "stream",
     "text": [
      "===========iteration:0===========\n",
      "std=0.01:2.302530453463654\n",
      "Xavier:2.3088472811735166\n",
      "He:2.2842277128471657\n",
      "===========iteration:100===========\n",
      "std=0.01:2.3026371917095565\n",
      "Xavier:2.259866721497875\n",
      "He:1.1660547548745979\n",
      "===========iteration:200===========\n",
      "std=0.01:2.3010860934810395\n",
      "Xavier:2.164747734496924\n",
      "He:0.6556760639292576\n",
      "===========iteration:300===========\n",
      "std=0.01:2.3020760376312515\n",
      "Xavier:2.000976741283588\n",
      "He:0.4333420152655256\n",
      "===========iteration:400===========\n",
      "std=0.01:2.301193379555836\n",
      "Xavier:1.6488760599279892\n",
      "He:0.34588544094482243\n",
      "===========iteration:500===========\n",
      "std=0.01:2.300975868635194\n",
      "Xavier:1.1381407920551192\n",
      "He:0.4292852428464128\n",
      "===========iteration:600===========\n",
      "std=0.01:2.303629335544084\n",
      "Xavier:0.9135253664260321\n",
      "He:0.32545807791697146\n",
      "===========iteration:700===========\n",
      "std=0.01:2.3008930963960434\n",
      "Xavier:0.7744116798282518\n",
      "He:0.3340888406130517\n",
      "===========iteration:800===========\n",
      "std=0.01:2.300471007694949\n",
      "Xavier:0.4962013298239445\n",
      "He:0.23363976233951106\n",
      "===========iteration:900===========\n",
      "std=0.01:2.303852003164465\n",
      "Xavier:0.5699426156744547\n",
      "He:0.32056287162238734\n",
      "===========iteration:1000===========\n",
      "std=0.01:2.301474511554997\n",
      "Xavier:0.509932737626704\n",
      "He:0.3130270739842018\n",
      "===========iteration:1100===========\n",
      "std=0.01:2.2976430310134255\n",
      "Xavier:0.4806491976345867\n",
      "He:0.24716944778400662\n",
      "===========iteration:1200===========\n",
      "std=0.01:2.3058157620873456\n",
      "Xavier:0.5117469488352435\n",
      "He:0.3260831180326449\n",
      "===========iteration:1300===========\n",
      "std=0.01:2.3022390886996056\n",
      "Xavier:0.5243839339602873\n",
      "He:0.3354532030776781\n",
      "===========iteration:1400===========\n",
      "std=0.01:2.2973241796794803\n",
      "Xavier:0.3962676608936925\n",
      "He:0.2518213893663634\n",
      "===========iteration:1500===========\n",
      "std=0.01:2.2983688658709056\n",
      "Xavier:0.28094151888791885\n",
      "He:0.1640400880285307\n",
      "===========iteration:1600===========\n",
      "std=0.01:2.2995186645101966\n",
      "Xavier:0.2934259625214489\n",
      "He:0.14937474661556577\n",
      "===========iteration:1700===========\n",
      "std=0.01:2.303193266288072\n",
      "Xavier:0.30465950941315606\n",
      "He:0.1665650779215411\n",
      "===========iteration:1800===========\n",
      "std=0.01:2.3020407768305375\n",
      "Xavier:0.2558046299267438\n",
      "He:0.16609842478129522\n",
      "===========iteration:1900===========\n",
      "std=0.01:2.295612988993218\n",
      "Xavier:0.3188178545622851\n",
      "He:0.2423106626011861\n"
     ]
    },
    {
     "data": {
      "image/png": "[encoded data removed]",
      "text/plain": [
       "<Figure size 432x288 with 1 Axes>"
      ]
     },
     "metadata": {
      "needs_background": "light"
     },
     "output_type": "display_data"
    }
   ],
   "source": [
    "(x_train, t_train), (x_test, t_test) = load_mnist(normalize=True)\n",
    "\n",
    "train_size = x_train.shape[0]\n",
    "batch_size = 128\n",
    "max_iterations = 2000\n",
    "\n",
    "\n",
    "# 1. 실험용 설정==========\n",
    "weight_init_types = {'std=0.01': 0.01, 'Xavier': 'sigmoid', 'He': 'relu'}\n",
    "optimizer = SGD(lr=0.01)\n",
    "\n",
    "networks = {}\n",
    "train_loss = {}\n",
    "for key, weight_type in weight_init_types.items():\n",
    "    networks[key] = MultiLayerNet(input_size=784, hidden_size_list=[100, 100, 100, 100],\n",
    "                                  output_size=10, weight_init_std=weight_type)\n",
    "    train_loss[key] = []\n",
    "    \n",
    "\n",
    "\n",
    "# 2. 훈련 시작==========\n",
    "for i in range(max_iterations):\n",
    "    batch_mask = np.random.choice(train_size, batch_size)\n",
    "    x_batch = x_train[batch_mask]\n",
    "    t_batch = t_train[batch_mask]\n",
    "    \n",
    "    for key in weight_init_types.keys():\n",
    "        grads = networks[key].gradient(x_batch, t_batch)\n",
    "        optimizer.update(networks[key].params, grads)\n",
    "    \n",
    "        loss = networks[key].loss(x_batch, t_batch)\n",
    "        train_loss[key].append(loss)\n",
    "    \n",
    "    if i % 100 == 0:\n",
    "        print(\"===========\" + \"iteration:\" + str(i) + \"===========\")\n",
    "        for key in weight_init_types.keys():\n",
    "            loss = networks[key].loss(x_batch, t_batch)\n",
    "            print(key + \":\" + str(loss))\n",
    "\n",
    "\n",
    "# 3. 그래프 그리기==========\n",
    "markers = {'std=0.01': 'o', 'Xavier': 's', 'He': 'D'}\n",
    "x = np.arange(max_iterations)\n",
    "for key in weight_init_types.keys():\n",
    "    plt.plot(x, smooth_curve(train_loss[key]), marker=markers[key], markevery=100, label=key)\n",
    "plt.xlabel(\"iterations\")\n",
    "plt.ylabel(\"loss\")\n",
    "plt.ylim(0, 2.5)\n",
    "plt.legend()\n",
    "plt.show()\n"
   ]
  },
  {
   "cell_type": "markdown",
   "id": "a121971d",
   "metadata": {},
   "source": [
    "## Batch Normalization"
   ]
  },
  {
   "cell_type": "code",
   "execution_count": 117,
   "id": "a1c3357d",
   "metadata": {},
   "outputs": [
    {
     "name": "stdout",
     "output_type": "stream",
     "text": [
      "============== 1/16 ==============\n",
      "epoch:0 | 0.097 - 0.108\n",
      "epoch:1 | 0.097 - 0.11\n",
      "epoch:2 | 0.097 - 0.118\n",
      "epoch:3 | 0.097 - 0.117\n",
      "epoch:4 | 0.097 - 0.133\n",
      "epoch:5 | 0.097 - 0.156\n",
      "epoch:6 | 0.097 - 0.166\n",
      "epoch:7 | 0.097 - 0.178\n",
      "epoch:8 | 0.097 - 0.212\n",
      "epoch:9 | 0.097 - 0.24\n",
      "epoch:10 | 0.097 - 0.253\n",
      "epoch:11 | 0.097 - 0.277\n",
      "epoch:12 | 0.097 - 0.312\n",
      "epoch:13 | 0.097 - 0.315\n",
      "epoch:14 | 0.097 - 0.344\n",
      "epoch:15 | 0.097 - 0.357\n",
      "epoch:16 | 0.097 - 0.371\n",
      "epoch:17 | 0.097 - 0.391\n",
      "epoch:18 | 0.097 - 0.401\n",
      "epoch:19 | 0.097 - 0.42\n"
     ]
    },
    {
     "name": "stderr",
     "output_type": "stream",
     "text": [
      "No artists with labels found to put in legend.  Note that artists whose label start with an underscore are ignored when legend() is called with no argument.\n",
      "/home/dongho/DLFS1/week4/../DLFS_book/common/functions.py:34: RuntimeWarning: invalid value encountered in subtract\n",
      "  x = x - np.max(x, axis=0)\n"
     ]
    },
    {
     "name": "stdout",
     "output_type": "stream",
     "text": [
      "============== 2/16 ==============\n",
      "epoch:0 | 0.117 - 0.123\n",
      "epoch:1 | 0.097 - 0.117\n",
      "epoch:2 | 0.097 - 0.094\n",
      "epoch:3 | 0.097 - 0.123\n",
      "epoch:4 | 0.097 - 0.154\n",
      "epoch:5 | 0.097 - 0.167\n",
      "epoch:6 | 0.097 - 0.19\n",
      "epoch:7 | 0.097 - 0.216\n",
      "epoch:8 | 0.097 - 0.236\n",
      "epoch:9 | 0.097 - 0.257\n",
      "epoch:10 | 0.097 - 0.263\n",
      "epoch:11 | 0.097 - 0.296\n",
      "epoch:12 | 0.097 - 0.312\n",
      "epoch:13 | 0.097 - 0.32\n",
      "epoch:14 | 0.097 - 0.347\n",
      "epoch:15 | 0.097 - 0.367\n",
      "epoch:16 | 0.097 - 0.393\n",
      "epoch:17 | 0.097 - 0.42\n"
     ]
    },
    {
     "name": "stderr",
     "output_type": "stream",
     "text": [
      "No artists with labels found to put in legend.  Note that artists whose label start with an underscore are ignored when legend() is called with no argument.\n"
     ]
    },
    {
     "name": "stdout",
     "output_type": "stream",
     "text": [
      "epoch:18 | 0.097 - 0.444\n",
      "epoch:19 | 0.097 - 0.458\n",
      "============== 3/16 ==============\n",
      "epoch:0 | 0.167 - 0.087\n",
      "epoch:1 | 0.406 - 0.106\n",
      "epoch:2 | 0.52 - 0.158\n",
      "epoch:3 | 0.58 - 0.217\n",
      "epoch:4 | 0.666 - 0.258\n",
      "epoch:5 | 0.704 - 0.299\n",
      "epoch:6 | 0.752 - 0.341\n",
      "epoch:7 | 0.777 - 0.382\n",
      "epoch:8 | 0.814 - 0.416\n",
      "epoch:9 | 0.824 - 0.447\n",
      "epoch:10 | 0.877 - 0.472\n",
      "epoch:11 | 0.9 - 0.511\n",
      "epoch:12 | 0.921 - 0.528\n",
      "epoch:13 | 0.934 - 0.545\n",
      "epoch:14 | 0.921 - 0.56\n",
      "epoch:15 | 0.95 - 0.588\n",
      "epoch:16 | 0.958 - 0.606\n",
      "epoch:17 | 0.962 - 0.631\n",
      "epoch:18 | 0.971 - 0.647\n"
     ]
    },
    {
     "name": "stderr",
     "output_type": "stream",
     "text": [
      "No artists with labels found to put in legend.  Note that artists whose label start with an underscore are ignored when legend() is called with no argument.\n"
     ]
    },
    {
     "name": "stdout",
     "output_type": "stream",
     "text": [
      "epoch:19 | 0.97 - 0.658\n",
      "============== 4/16 ==============\n",
      "epoch:0 | 0.132 - 0.088\n",
      "epoch:1 | 0.316 - 0.107\n",
      "epoch:2 | 0.426 - 0.157\n",
      "epoch:3 | 0.539 - 0.263\n",
      "epoch:4 | 0.611 - 0.342\n",
      "epoch:5 | 0.656 - 0.426\n",
      "epoch:6 | 0.678 - 0.474\n",
      "epoch:7 | 0.729 - 0.527\n",
      "epoch:8 | 0.75 - 0.553\n",
      "epoch:9 | 0.779 - 0.594\n",
      "epoch:10 | 0.789 - 0.615\n",
      "epoch:11 | 0.805 - 0.646\n",
      "epoch:12 | 0.82 - 0.669\n",
      "epoch:13 | 0.829 - 0.684\n",
      "epoch:14 | 0.846 - 0.708\n",
      "epoch:15 | 0.853 - 0.717\n",
      "epoch:16 | 0.86 - 0.747\n",
      "epoch:17 | 0.873 - 0.752\n",
      "epoch:18 | 0.875 - 0.763\n",
      "epoch:19 | 0.888 - 0.78\n"
     ]
    },
    {
     "name": "stderr",
     "output_type": "stream",
     "text": [
      "No artists with labels found to put in legend.  Note that artists whose label start with an underscore are ignored when legend() is called with no argument.\n"
     ]
    },
    {
     "name": "stdout",
     "output_type": "stream",
     "text": [
      "============== 5/16 ==============\n",
      "epoch:0 | 0.099 - 0.11\n",
      "epoch:1 | 0.099 - 0.14\n",
      "epoch:2 | 0.099 - 0.324\n",
      "epoch:3 | 0.099 - 0.429\n",
      "epoch:4 | 0.099 - 0.505\n",
      "epoch:5 | 0.099 - 0.568\n",
      "epoch:6 | 0.099 - 0.632\n",
      "epoch:7 | 0.1 - 0.67\n",
      "epoch:8 | 0.099 - 0.717\n",
      "epoch:9 | 0.1 - 0.747\n",
      "epoch:10 | 0.1 - 0.766\n",
      "epoch:11 | 0.1 - 0.782\n",
      "epoch:12 | 0.1 - 0.795\n",
      "epoch:13 | 0.101 - 0.816\n",
      "epoch:14 | 0.106 - 0.826\n",
      "epoch:15 | 0.106 - 0.835\n",
      "epoch:16 | 0.108 - 0.841\n",
      "epoch:17 | 0.11 - 0.849\n"
     ]
    },
    {
     "name": "stderr",
     "output_type": "stream",
     "text": [
      "No artists with labels found to put in legend.  Note that artists whose label start with an underscore are ignored when legend() is called with no argument.\n"
     ]
    },
    {
     "name": "stdout",
     "output_type": "stream",
     "text": [
      "epoch:18 | 0.113 - 0.865\n",
      "epoch:19 | 0.113 - 0.87\n",
      "============== 6/16 ==============\n",
      "epoch:0 | 0.095 - 0.108\n",
      "epoch:1 | 0.084 - 0.164\n",
      "epoch:2 | 0.122 - 0.41\n",
      "epoch:3 | 0.123 - 0.57\n",
      "epoch:4 | 0.125 - 0.654\n",
      "epoch:5 | 0.117 - 0.694\n",
      "epoch:6 | 0.117 - 0.734\n",
      "epoch:7 | 0.117 - 0.759\n",
      "epoch:8 | 0.12 - 0.776\n",
      "epoch:9 | 0.117 - 0.802\n",
      "epoch:10 | 0.195 - 0.816\n",
      "epoch:11 | 0.116 - 0.832\n",
      "epoch:12 | 0.196 - 0.854\n",
      "epoch:13 | 0.126 - 0.872\n",
      "epoch:14 | 0.119 - 0.891\n",
      "epoch:15 | 0.116 - 0.901\n",
      "epoch:16 | 0.116 - 0.914\n",
      "epoch:17 | 0.116 - 0.921\n",
      "epoch:18 | 0.116 - 0.933\n"
     ]
    },
    {
     "name": "stderr",
     "output_type": "stream",
     "text": [
      "No artists with labels found to put in legend.  Note that artists whose label start with an underscore are ignored when legend() is called with no argument.\n"
     ]
    },
    {
     "name": "stdout",
     "output_type": "stream",
     "text": [
      "epoch:19 | 0.116 - 0.939\n",
      "============== 7/16 ==============\n",
      "epoch:0 | 0.116 - 0.075\n",
      "epoch:1 | 0.117 - 0.268\n",
      "epoch:2 | 0.117 - 0.596\n",
      "epoch:3 | 0.116 - 0.701\n",
      "epoch:4 | 0.116 - 0.777\n",
      "epoch:5 | 0.116 - 0.806\n",
      "epoch:6 | 0.117 - 0.843\n",
      "epoch:7 | 0.117 - 0.862\n",
      "epoch:8 | 0.117 - 0.881\n",
      "epoch:9 | 0.117 - 0.899\n",
      "epoch:10 | 0.117 - 0.908\n",
      "epoch:11 | 0.117 - 0.928\n",
      "epoch:12 | 0.117 - 0.945\n",
      "epoch:13 | 0.117 - 0.96\n",
      "epoch:14 | 0.117 - 0.966\n",
      "epoch:15 | 0.117 - 0.974\n",
      "epoch:16 | 0.117 - 0.979\n",
      "epoch:17 | 0.117 - 0.986\n"
     ]
    },
    {
     "name": "stderr",
     "output_type": "stream",
     "text": [
      "No artists with labels found to put in legend.  Note that artists whose label start with an underscore are ignored when legend() is called with no argument.\n"
     ]
    },
    {
     "name": "stdout",
     "output_type": "stream",
     "text": [
      "epoch:18 | 0.117 - 0.986\n",
      "epoch:19 | 0.117 - 0.989\n",
      "============== 8/16 ==============\n",
      "epoch:0 | 0.093 - 0.104\n",
      "epoch:1 | 0.116 - 0.431\n",
      "epoch:2 | 0.117 - 0.65\n",
      "epoch:3 | 0.117 - 0.73\n",
      "epoch:4 | 0.117 - 0.8\n",
      "epoch:5 | 0.116 - 0.86\n",
      "epoch:6 | 0.116 - 0.896\n",
      "epoch:7 | 0.116 - 0.927\n",
      "epoch:8 | 0.116 - 0.936\n",
      "epoch:9 | 0.116 - 0.963\n",
      "epoch:10 | 0.116 - 0.974\n",
      "epoch:11 | 0.116 - 0.98\n",
      "epoch:12 | 0.116 - 0.985\n",
      "epoch:13 | 0.116 - 0.987\n",
      "epoch:14 | 0.116 - 0.993\n",
      "epoch:15 | 0.116 - 0.995\n",
      "epoch:16 | 0.116 - 0.996\n",
      "epoch:17 | 0.116 - 1.0\n",
      "epoch:18 | 0.116 - 1.0\n"
     ]
    },
    {
     "name": "stderr",
     "output_type": "stream",
     "text": [
      "No artists with labels found to put in legend.  Note that artists whose label start with an underscore are ignored when legend() is called with no argument.\n"
     ]
    },
    {
     "name": "stdout",
     "output_type": "stream",
     "text": [
      "epoch:19 | 0.116 - 0.999\n",
      "============== 9/16 ==============\n",
      "epoch:0 | 0.087 - 0.104\n",
      "epoch:1 | 0.116 - 0.282\n",
      "epoch:2 | 0.117 - 0.698\n",
      "epoch:3 | 0.117 - 0.772\n",
      "epoch:4 | 0.117 - 0.814\n",
      "epoch:5 | 0.117 - 0.878\n",
      "epoch:6 | 0.117 - 0.935\n",
      "epoch:7 | 0.117 - 0.962\n",
      "epoch:8 | 0.117 - 0.973\n",
      "epoch:9 | 0.117 - 0.988\n",
      "epoch:10 | 0.117 - 0.989\n",
      "epoch:11 | 0.117 - 0.989\n",
      "epoch:12 | 0.117 - 0.996\n",
      "epoch:13 | 0.117 - 0.997\n",
      "epoch:14 | 0.117 - 0.999\n",
      "epoch:15 | 0.117 - 0.999\n",
      "epoch:16 | 0.117 - 1.0\n",
      "epoch:17 | 0.117 - 1.0\n"
     ]
    },
    {
     "name": "stderr",
     "output_type": "stream",
     "text": [
      "No artists with labels found to put in legend.  Note that artists whose label start with an underscore are ignored when legend() is called with no argument.\n"
     ]
    },
    {
     "name": "stdout",
     "output_type": "stream",
     "text": [
      "epoch:18 | 0.117 - 1.0\n",
      "epoch:19 | 0.117 - 1.0\n",
      "============== 10/16 ==============\n",
      "epoch:0 | 0.094 - 0.08\n",
      "epoch:1 | 0.117 - 0.69\n",
      "epoch:2 | 0.117 - 0.826\n",
      "epoch:3 | 0.117 - 0.88\n",
      "epoch:4 | 0.117 - 0.885\n",
      "epoch:5 | 0.117 - 0.949\n",
      "epoch:6 | 0.117 - 0.977\n",
      "epoch:7 | 0.117 - 0.967\n",
      "epoch:8 | 0.117 - 0.985\n",
      "epoch:9 | 0.117 - 0.988\n",
      "epoch:10 | 0.117 - 0.99\n",
      "epoch:11 | 0.117 - 0.991\n",
      "epoch:12 | 0.117 - 0.993\n",
      "epoch:13 | 0.117 - 0.994\n",
      "epoch:14 | 0.117 - 0.997\n",
      "epoch:15 | 0.117 - 0.997\n",
      "epoch:16 | 0.117 - 0.998\n",
      "epoch:17 | 0.117 - 0.999\n",
      "epoch:18 | 0.117 - 0.999\n"
     ]
    },
    {
     "name": "stderr",
     "output_type": "stream",
     "text": [
      "No artists with labels found to put in legend.  Note that artists whose label start with an underscore are ignored when legend() is called with no argument.\n"
     ]
    },
    {
     "name": "stdout",
     "output_type": "stream",
     "text": [
      "epoch:19 | 0.117 - 0.999\n",
      "============== 11/16 ==============\n",
      "epoch:0 | 0.093 - 0.135\n",
      "epoch:1 | 0.117 - 0.399\n",
      "epoch:2 | 0.105 - 0.719\n",
      "epoch:3 | 0.117 - 0.876\n",
      "epoch:4 | 0.117 - 0.932\n",
      "epoch:5 | 0.117 - 0.92\n",
      "epoch:6 | 0.117 - 0.902\n",
      "epoch:7 | 0.117 - 0.96\n",
      "epoch:8 | 0.117 - 0.975\n",
      "epoch:9 | 0.117 - 0.971\n",
      "epoch:10 | 0.117 - 0.969\n",
      "epoch:11 | 0.117 - 0.989\n",
      "epoch:12 | 0.117 - 0.978\n",
      "epoch:13 | 0.117 - 0.991\n",
      "epoch:14 | 0.117 - 0.927\n",
      "epoch:15 | 0.117 - 0.984\n",
      "epoch:16 | 0.117 - 0.988\n",
      "epoch:17 | 0.117 - 0.993\n"
     ]
    },
    {
     "name": "stderr",
     "output_type": "stream",
     "text": [
      "No artists with labels found to put in legend.  Note that artists whose label start with an underscore are ignored when legend() is called with no argument.\n"
     ]
    },
    {
     "name": "stdout",
     "output_type": "stream",
     "text": [
      "epoch:18 | 0.117 - 0.993\n",
      "epoch:19 | 0.117 - 0.993\n",
      "============== 12/16 ==============\n",
      "epoch:0 | 0.117 - 0.2\n",
      "epoch:1 | 0.116 - 0.397\n",
      "epoch:2 | 0.116 - 0.492\n",
      "epoch:3 | 0.116 - 0.632\n",
      "epoch:4 | 0.116 - 0.681\n",
      "epoch:5 | 0.116 - 0.68\n",
      "epoch:6 | 0.116 - 0.685\n",
      "epoch:7 | 0.116 - 0.711\n",
      "epoch:8 | 0.116 - 0.708\n",
      "epoch:9 | 0.116 - 0.707\n",
      "epoch:10 | 0.116 - 0.703\n",
      "epoch:11 | 0.116 - 0.717\n",
      "epoch:12 | 0.116 - 0.715\n",
      "epoch:13 | 0.116 - 0.717\n",
      "epoch:14 | 0.116 - 0.717\n",
      "epoch:15 | 0.116 - 0.717\n",
      "epoch:16 | 0.116 - 0.718\n",
      "epoch:17 | 0.116 - 0.709\n",
      "epoch:18 | 0.116 - 0.72\n"
     ]
    },
    {
     "name": "stderr",
     "output_type": "stream",
     "text": [
      "No artists with labels found to put in legend.  Note that artists whose label start with an underscore are ignored when legend() is called with no argument.\n"
     ]
    },
    {
     "name": "stdout",
     "output_type": "stream",
     "text": [
      "epoch:19 | 0.116 - 0.803\n",
      "============== 13/16 ==============\n",
      "epoch:0 | 0.1 - 0.205\n",
      "epoch:1 | 0.1 - 0.443\n",
      "epoch:2 | 0.116 - 0.544\n",
      "epoch:3 | 0.116 - 0.65\n",
      "epoch:4 | 0.116 - 0.643\n",
      "epoch:5 | 0.117 - 0.664\n",
      "epoch:6 | 0.116 - 0.677\n",
      "epoch:7 | 0.116 - 0.674\n",
      "epoch:8 | 0.116 - 0.646\n",
      "epoch:9 | 0.116 - 0.679\n",
      "epoch:10 | 0.116 - 0.706\n",
      "epoch:11 | 0.116 - 0.707\n",
      "epoch:12 | 0.116 - 0.706\n",
      "epoch:13 | 0.116 - 0.677\n",
      "epoch:14 | 0.116 - 0.771\n",
      "epoch:15 | 0.116 - 0.74\n",
      "epoch:16 | 0.116 - 0.713\n",
      "epoch:17 | 0.116 - 0.763\n"
     ]
    },
    {
     "name": "stderr",
     "output_type": "stream",
     "text": [
      "No artists with labels found to put in legend.  Note that artists whose label start with an underscore are ignored when legend() is called with no argument.\n"
     ]
    },
    {
     "name": "stdout",
     "output_type": "stream",
     "text": [
      "epoch:18 | 0.116 - 0.789\n",
      "epoch:19 | 0.116 - 0.797\n",
      "============== 14/16 ==============\n",
      "epoch:0 | 0.094 - 0.15\n",
      "epoch:1 | 0.117 - 0.472\n",
      "epoch:2 | 0.117 - 0.498\n",
      "epoch:3 | 0.117 - 0.582\n",
      "epoch:4 | 0.117 - 0.596\n",
      "epoch:5 | 0.117 - 0.576\n",
      "epoch:6 | 0.117 - 0.609\n",
      "epoch:7 | 0.117 - 0.608\n",
      "epoch:8 | 0.117 - 0.608\n",
      "epoch:9 | 0.117 - 0.607\n",
      "epoch:10 | 0.117 - 0.61\n",
      "epoch:11 | 0.117 - 0.612\n",
      "epoch:12 | 0.117 - 0.614\n",
      "epoch:13 | 0.117 - 0.614\n",
      "epoch:14 | 0.117 - 0.614\n",
      "epoch:15 | 0.117 - 0.583\n",
      "epoch:16 | 0.117 - 0.614\n",
      "epoch:17 | 0.117 - 0.614\n",
      "epoch:18 | 0.117 - 0.614\n"
     ]
    },
    {
     "name": "stderr",
     "output_type": "stream",
     "text": [
      "No artists with labels found to put in legend.  Note that artists whose label start with an underscore are ignored when legend() is called with no argument.\n"
     ]
    },
    {
     "name": "stdout",
     "output_type": "stream",
     "text": [
      "epoch:19 | 0.117 - 0.71\n",
      "============== 15/16 ==============\n",
      "epoch:0 | 0.116 - 0.095\n",
      "epoch:1 | 0.116 - 0.373\n",
      "epoch:2 | 0.116 - 0.361\n",
      "epoch:3 | 0.116 - 0.404\n",
      "epoch:4 | 0.116 - 0.41\n",
      "epoch:5 | 0.116 - 0.389\n",
      "epoch:6 | 0.116 - 0.477\n",
      "epoch:7 | 0.116 - 0.459\n",
      "epoch:8 | 0.116 - 0.491\n",
      "epoch:9 | 0.116 - 0.493\n",
      "epoch:10 | 0.116 - 0.494\n",
      "epoch:11 | 0.116 - 0.506\n",
      "epoch:12 | 0.116 - 0.511\n",
      "epoch:13 | 0.116 - 0.509\n",
      "epoch:14 | 0.116 - 0.511\n",
      "epoch:15 | 0.116 - 0.513\n",
      "epoch:16 | 0.116 - 0.512\n",
      "epoch:17 | 0.116 - 0.516\n"
     ]
    },
    {
     "name": "stderr",
     "output_type": "stream",
     "text": [
      "No artists with labels found to put in legend.  Note that artists whose label start with an underscore are ignored when legend() is called with no argument.\n"
     ]
    },
    {
     "name": "stdout",
     "output_type": "stream",
     "text": [
      "epoch:18 | 0.116 - 0.521\n",
      "epoch:19 | 0.116 - 0.514\n",
      "============== 16/16 ==============\n",
      "epoch:0 | 0.099 - 0.155\n",
      "epoch:1 | 0.117 - 0.212\n",
      "epoch:2 | 0.117 - 0.274\n",
      "epoch:3 | 0.117 - 0.373\n",
      "epoch:4 | 0.117 - 0.389\n",
      "epoch:5 | 0.117 - 0.404\n",
      "epoch:6 | 0.117 - 0.402\n",
      "epoch:7 | 0.117 - 0.415\n",
      "epoch:8 | 0.117 - 0.423\n",
      "epoch:9 | 0.117 - 0.417\n",
      "epoch:10 | 0.117 - 0.511\n",
      "epoch:11 | 0.117 - 0.562\n",
      "epoch:12 | 0.117 - 0.617\n",
      "epoch:13 | 0.117 - 0.571\n",
      "epoch:14 | 0.117 - 0.613\n",
      "epoch:15 | 0.117 - 0.617\n",
      "epoch:16 | 0.116 - 0.613\n",
      "epoch:17 | 0.116 - 0.622\n",
      "epoch:18 | 0.117 - 0.622\n",
      "epoch:19 | 0.117 - 0.611\n"
     ]
    },
    {
     "data": {
      "image/png": "[encoded data removed]",
      "text/plain": [
       "<Figure size 432x288 with 16 Axes>"
      ]
     },
     "metadata": {
      "needs_background": "light"
     },
     "output_type": "display_data"
    }
   ],
   "source": [
    "import sys, os\n",
    "sys.path.append(\"../DLFS_book/\")  # 부모 디렉터리의 파일을 가져올 수 있도록 설정\n",
    "import numpy as np\n",
    "import matplotlib.pyplot as plt\n",
    "from dataset.mnist import load_mnist\n",
    "from common.multi_layer_net_extend import MultiLayerNetExtend\n",
    "from common.optimizer import SGD, Adam\n",
    "\n",
    "(x_train, t_train), (x_test, t_test) = load_mnist(normalize=True)\n",
    "\n",
    "# 학습 데이터를 줄임\n",
    "x_train = x_train[:1000]\n",
    "t_train = t_train[:1000]\n",
    "\n",
    "max_epochs = 20\n",
    "train_size = x_train.shape[0]\n",
    "batch_size = 100\n",
    "learning_rate = 0.01\n",
    "\n",
    "\n",
    "def __train(weight_init_std):\n",
    "    bn_network = MultiLayerNetExtend(input_size=784, hidden_size_list=[100, 100, 100, 100, 100], output_size=10, \n",
    "                                    weight_init_std=weight_init_std, use_batchnorm=True)\n",
    "    network = MultiLayerNetExtend(input_size=784, hidden_size_list=[100, 100, 100, 100, 100], output_size=10,\n",
    "                                weight_init_std=weight_init_std)\n",
    "    optimizer = SGD(lr=learning_rate)\n",
    "    \n",
    "    train_acc_list = []\n",
    "    bn_train_acc_list = []\n",
    "    \n",
    "    iter_per_epoch = max(train_size / batch_size, 1)\n",
    "    epoch_cnt = 0\n",
    "    \n",
    "    for i in range(1000000000):\n",
    "        batch_mask = np.random.choice(train_size, batch_size)\n",
    "        x_batch = x_train[batch_mask]\n",
    "        t_batch = t_train[batch_mask]\n",
    "    \n",
    "        for _network in (bn_network, network):\n",
    "            grads = _network.gradient(x_batch, t_batch)\n",
    "            optimizer.update(_network.params, grads)\n",
    "    \n",
    "        if i % iter_per_epoch == 0:\n",
    "            train_acc = network.accuracy(x_train, t_train)\n",
    "            bn_train_acc = bn_network.accuracy(x_train, t_train)\n",
    "            train_acc_list.append(train_acc)\n",
    "            bn_train_acc_list.append(bn_train_acc)\n",
    "    \n",
    "            print(\"epoch:\" + str(epoch_cnt) + \" | \" + str(train_acc) + \" - \" + str(bn_train_acc))\n",
    "    \n",
    "            epoch_cnt += 1\n",
    "            if epoch_cnt >= max_epochs:\n",
    "                break\n",
    "                \n",
    "    return train_acc_list, bn_train_acc_list\n",
    "\n",
    "\n",
    "# 그래프 그리기==========\n",
    "weight_scale_list = np.logspace(0, -4, num=16)\n",
    "x = np.arange(max_epochs)\n",
    "\n",
    "for i, w in enumerate(weight_scale_list):\n",
    "    print( \"============== \" + str(i+1) + \"/16\" + \" ==============\")\n",
    "    train_acc_list, bn_train_acc_list = __train(w)\n",
    "    \n",
    "    plt.subplot(4,4,i+1)\n",
    "    plt.title(\"W:\" + str(w))\n",
    "    if i == 15:\n",
    "        plt.plot(x, bn_train_acc_list, label='Batch Normalization', markevery=2)\n",
    "        plt.plot(x, train_acc_list, linestyle = \"--\", label='Normal(without BatchNorm)', markevery=2)\n",
    "    else:\n",
    "        plt.plot(x, bn_train_acc_list, markevery=2)\n",
    "        plt.plot(x, train_acc_list, linestyle=\"--\", markevery=2)\n",
    "\n",
    "    plt.ylim(0, 1.0)\n",
    "    if i % 4:\n",
    "        plt.yticks([])\n",
    "    else:\n",
    "        plt.ylabel(\"accuracy\")\n",
    "    if i < 12:\n",
    "        plt.xticks([])\n",
    "    else:\n",
    "        plt.xlabel(\"epochs\")\n",
    "    plt.legend(loc='lower right')\n",
    "    \n",
    "plt.show()"
   ]
  },
  {
   "cell_type": "markdown",
   "id": "fc00a6bf",
   "metadata": {},
   "source": [
    "## Overfitting"
   ]
  },
  {
   "cell_type": "code",
   "execution_count": null,
   "id": "4b5a1505",
   "metadata": {},
   "outputs": [],
   "source": [
    "(x_train, t_train), (x_test, t_test) = load_mnist(normalize=True)\n",
    "\n",
    "x_train = x_train[:300]\n",
    "t_train = t_train[:300]"
   ]
  },
  {
   "cell_type": "code",
   "execution_count": null,
   "id": "b5efccbf",
   "metadata": {},
   "outputs": [],
   "source": [
    "network = MultiLayerNet(input_size=784, hidden_size_list=[100, 100, 100, 100, 100, 100], output_size=10)\n",
    "optimizer = SGD(lr=0.01) "
   ]
  },
  {
   "cell_type": "code",
   "execution_count": 118,
   "id": "f7178a44",
   "metadata": {},
   "outputs": [],
   "source": [
    "max_epochs = 201\n",
    "train_size = x_train.shape[0]\n",
    "batch_size = 100\n",
    "\n",
    "train_loss_list = []\n",
    "train_acc_list = []\n",
    "test_acc_list = []\n",
    "\n",
    "iter_per_epoch = max(train_size / batch_size, 1)\n",
    "epoch_cnt = 0"
   ]
  },
  {
   "cell_type": "code",
   "execution_count": null,
   "id": "8112734f",
   "metadata": {},
   "outputs": [
    {
     "name": "stdout",
     "output_type": "stream",
     "text": [
      "epoch:0, train acc:0.522, test acc:0.5066\n",
      "epoch:1, train acc:0.533, test acc:0.5142\n",
      "epoch:2, train acc:0.539, test acc:0.5225\n",
      "epoch:3, train acc:0.537, test acc:0.5211\n",
      "epoch:4, train acc:0.545, test acc:0.5302\n",
      "epoch:5, train acc:0.548, test acc:0.5353\n",
      "epoch:6, train acc:0.559, test acc:0.5414\n",
      "epoch:7, train acc:0.564, test acc:0.5475\n",
      "epoch:8, train acc:0.572, test acc:0.5499\n",
      "epoch:9, train acc:0.582, test acc:0.5588\n",
      "epoch:10, train acc:0.584, test acc:0.5662\n",
      "epoch:11, train acc:0.586, test acc:0.5681\n",
      "epoch:12, train acc:0.595, test acc:0.5743\n",
      "epoch:13, train acc:0.595, test acc:0.5752\n",
      "epoch:14, train acc:0.6, test acc:0.5765\n",
      "epoch:15, train acc:0.604, test acc:0.5828\n",
      "epoch:16, train acc:0.605, test acc:0.5872\n",
      "epoch:17, train acc:0.606, test acc:0.5859\n",
      "epoch:18, train acc:0.608, test acc:0.5875\n",
      "epoch:19, train acc:0.613, test acc:0.5935\n",
      "epoch:20, train acc:0.622, test acc:0.5992\n",
      "epoch:21, train acc:0.628, test acc:0.6018\n",
      "epoch:22, train acc:0.634, test acc:0.6039\n",
      "epoch:23, train acc:0.629, test acc:0.6065\n",
      "epoch:24, train acc:0.638, test acc:0.6144\n",
      "epoch:25, train acc:0.636, test acc:0.622\n",
      "epoch:26, train acc:0.647, test acc:0.6233\n",
      "epoch:27, train acc:0.649, test acc:0.6254\n",
      "epoch:28, train acc:0.649, test acc:0.6247\n",
      "epoch:29, train acc:0.66, test acc:0.6255\n",
      "epoch:30, train acc:0.658, test acc:0.6302\n",
      "epoch:31, train acc:0.661, test acc:0.6343\n",
      "epoch:32, train acc:0.677, test acc:0.6365\n",
      "epoch:33, train acc:0.681, test acc:0.6368\n",
      "epoch:34, train acc:0.675, test acc:0.6405\n",
      "epoch:35, train acc:0.681, test acc:0.6439\n",
      "epoch:36, train acc:0.681, test acc:0.6446\n",
      "epoch:37, train acc:0.693, test acc:0.6498\n",
      "epoch:38, train acc:0.701, test acc:0.6538\n",
      "epoch:39, train acc:0.691, test acc:0.65\n",
      "epoch:40, train acc:0.689, test acc:0.6498\n",
      "epoch:41, train acc:0.705, test acc:0.656\n"
     ]
    }
   ],
   "source": [
    "for i in range(1000000000):\n",
    "    batch_mask = np.random.choice(train_size, batch_size)\n",
    "    x_batch = x_train[batch_mask]\n",
    "    t_batch = t_train[batch_mask]\n",
    "\n",
    "    grads = network.gradient(x_batch, t_batch)\n",
    "    optimizer.update(network.params, grads)\n",
    "\n",
    "    if i % iter_per_epoch == 0: #check if one epoch has passed\n",
    "        train_acc = network.accuracy(x_train, t_train)\n",
    "        test_acc = network.accuracy(x_test, t_test)\n",
    "        train_acc_list.append(train_acc)\n",
    "        test_acc_list.append(test_acc)\n",
    "\n",
    "        print(\"epoch:\" + str(epoch_cnt) + \", train acc:\" + str(train_acc) + \", test acc:\" + str(test_acc))\n",
    "\n",
    "        epoch_cnt += 1\n",
    "        if epoch_cnt >= max_epochs:\n",
    "            break"
   ]
  },
  {
   "cell_type": "code",
   "execution_count": null,
   "id": "3d82795c",
   "metadata": {},
   "outputs": [],
   "source": [
    "x = np.arange(max_epochs)\n",
    "plt.plot(x, train_acc_list, marker='o', label='train', markevery=10)\n",
    "plt.plot(x, test_acc_list, marker='s', label='test', markevery=10)\n",
    "plt.xlabel(\"epochs\")\n",
    "plt.ylabel(\"accuracy\")\n",
    "plt.ylim(0, 1.0)\n",
    "plt.legend(loc='lower right')\n",
    "plt.show()"
   ]
  },
  {
   "cell_type": "markdown",
   "id": "7871e210",
   "metadata": {},
   "source": [
    "### Weight Decay"
   ]
  },
  {
   "cell_type": "code",
   "execution_count": null,
   "id": "8b112a76",
   "metadata": {},
   "outputs": [],
   "source": [
    "#overfitting has occurred\n",
    "weight_decay_lambda = 0.1\n",
    "\n",
    "network = MultiLayerNet(input_size=784, hidden_size_list=[100, 100, 100, 100, 100, 100], output_size=10,weight_decay_lambda=weight_decay_lambda)\n",
    "optimizer = SGD(lr=0.01)\n",
    "\n",
    "max_epochs = 201\n",
    "train_size = x_train.shape[0]\n",
    "batch_size = 100\n",
    "\n",
    "train_loss_list = []\n",
    "train_acc_list = []\n",
    "test_acc_list = []\n",
    "\n",
    "iter_per_epoch = max(train_size / batch_size, 1)\n",
    "epoch_cnt = 0\n",
    "\n",
    "for i in range(1000000000):\n",
    "    batch_mask = np.random.choice(train_size, batch_size)\n",
    "    x_batch = x_train[batch_mask]\n",
    "    t_batch = t_train[batch_mask]\n",
    "\n",
    "    grads = network.gradient(x_batch, t_batch)\n",
    "    optimizer.update(network.params, grads)\n",
    "\n",
    "    if i % iter_per_epoch == 0:\n",
    "        train_acc = network.accuracy(x_train, t_train)\n",
    "        test_acc = network.accuracy(x_test, t_test)\n",
    "        train_acc_list.append(train_acc)\n",
    "        test_acc_list.append(test_acc)\n",
    "\n",
    "        print(\"epoch:\" + str(epoch_cnt) + \", train acc:\" + str(train_acc) + \", test acc:\" + str(test_acc))\n",
    "\n",
    "        epoch_cnt += 1\n",
    "        if epoch_cnt >= max_epochs:\n",
    "            break"
   ]
  },
  {
   "cell_type": "code",
   "execution_count": null,
   "id": "5d1f7b95",
   "metadata": {},
   "outputs": [],
   "source": [
    "markers = {'train': 'o', 'test': 's'}\n",
    "x = np.arange(max_epochs)\n",
    "plt.plot(x, train_acc_list, marker='o', label='train', markevery=10)\n",
    "plt.plot(x, test_acc_list, marker='s', label='test', markevery=10)\n",
    "plt.xlabel(\"epochs\")\n",
    "plt.ylabel(\"accuracy\")\n",
    "plt.ylim(0, 1.0)\n",
    "plt.legend(loc='lower right')\n",
    "plt.show()\n"
   ]
  },
  {
   "cell_type": "markdown",
   "id": "0bb307ba",
   "metadata": {},
   "source": [
    "## Dropout"
   ]
  },
  {
   "cell_type": "code",
   "execution_count": null,
   "id": "1513f92f",
   "metadata": {},
   "outputs": [],
   "source": [
    "class Dropout:\n",
    "    def __init__(self, dropout_ratio=0.5):\n",
    "        self.dropout_ratio = dropout_ratio\n",
    "        self.mask = None\n",
    "        \n",
    "    def forward(self, x, train_flg=True):\n",
    "        if(train_flg):\n",
    "            self.mask = np.random.rand(*x.shape) > self.dropout_ratio\n",
    "            return x*self.mask\n",
    "        return x*(1.0-self.dropout_ratio)\n",
    "    def backward(self, dout):\n",
    "        return dout*self.mask"
   ]
  },
  {
   "cell_type": "code",
   "execution_count": null,
   "id": "464bc858",
   "metadata": {},
   "outputs": [],
   "source": [
    "#using dropout\n",
    "from common.trainer import Trainer #using trainer -> calles forward and backward!\n",
    "\n",
    "use_dropout = True \n",
    "dropout_ratio = 0.2\n",
    "\n",
    "\n",
    "network = MultiLayerNetExtend(input_size=784, hidden_size_list=[100, 100, 100, 100, 100, 100],\n",
    "                              output_size=10, use_dropout=use_dropout, dropout_ration=dropout_ratio)\n",
    "trainer = Trainer(network, x_train, t_train, x_test, t_test,\n",
    "                  epochs=301, mini_batch_size=100,\n",
    "                  optimizer='sgd', optimizer_param={'lr': 0.01}, verbose=True)\n",
    "trainer.train()\n",
    "\n",
    "train_acc_list, test_acc_list = trainer.train_acc_list, trainer.test_acc_list\n"
   ]
  },
  {
   "cell_type": "code",
   "execution_count": null,
   "id": "ee6af60a",
   "metadata": {},
   "outputs": [],
   "source": [
    "markers = {'train': 'o', 'test': 's'}\n",
    "x = np.arange(len(train_acc_list))\n",
    "plt.plot(x, train_acc_list, marker='o', label='train', markevery=10)\n",
    "plt.plot(x, test_acc_list, marker='s', label='test', markevery=10)\n",
    "plt.xlabel(\"epochs\")\n",
    "plt.ylabel(\"accuracy\")\n",
    "plt.ylim(0, 1.0)\n",
    "plt.legend(loc='lower right')\n",
    "plt.show()"
   ]
  },
  {
   "cell_type": "markdown",
   "id": "33b77f15",
   "metadata": {},
   "source": [
    "## For the best Hyperparamiter"
   ]
  },
  {
   "cell_type": "code",
   "execution_count": null,
   "id": "daaaa60e",
   "metadata": {},
   "outputs": [],
   "source": [
    "from common.util import shuffle_dataset\n",
    "(x_train, t_train), (x_test, t_test) = load_mnist(normalize=True)\n",
    "x_train, t_train = shuffle_dataset(x_train, t_train)\n",
    "validation_rate = 0.20\n",
    "validation_num = int(x_train.shape[0] * validation_rate)\n",
    "x_val = x_train[:validation_num]\n",
    "t_val = t_train[:validation_num]\n",
    "x_train = x_train[validation_num:]\n",
    "t_train = t_train[validation_num:]"
   ]
  },
  {
   "cell_type": "code",
   "execution_count": null,
   "id": "20dd500c",
   "metadata": {},
   "outputs": [],
   "source": []
  },
  {
   "cell_type": "code",
   "execution_count": null,
   "id": "8e55c43e",
   "metadata": {},
   "outputs": [],
   "source": [
    "import sys, os\n",
    "sys.path.append(\"../DLFS_book/\")  # 부모 디렉터리의 파일을 가져올 수 있도록 설정\n",
    "import numpy as np\n",
    "import matplotlib.pyplot as plt\n",
    "from dataset.mnist import load_mnist\n",
    "from common.multi_layer_net import MultiLayerNet\n",
    "from common.util import shuffle_dataset\n",
    "from common.trainer import Trainer\n",
    "\n",
    "(x_train, t_train), (x_test, t_test) = load_mnist(normalize=True)\n",
    "\n",
    "# 결과를 빠르게 얻기 위해 훈련 데이터를 줄임\n",
    "x_train = x_train[:500]\n",
    "t_train = t_train[:500]\n",
    "\n",
    "# 20%를 검증 데이터로 분할\n",
    "validation_rate = 0.20\n",
    "validation_num = int(x_train.shape[0] * validation_rate)\n",
    "x_train, t_train = shuffle_dataset(x_train, t_train)\n",
    "x_val = x_train[:validation_num]\n",
    "t_val = t_train[:validation_num]\n",
    "x_train = x_train[validation_num:]\n",
    "t_train = t_train[validation_num:]"
   ]
  },
  {
   "cell_type": "code",
   "execution_count": null,
   "id": "280842e6",
   "metadata": {},
   "outputs": [],
   "source": [
    "def __train(lr, weight_decay, epocs=50): #get these as input\n",
    "    network = MultiLayerNet(input_size=784, hidden_size_list=[100, 100, 100, 100, 100, 100],\n",
    "                            output_size=10, weight_decay_lambda=weight_decay)\n",
    "    trainer = Trainer(network, x_train, t_train, x_val, t_val,\n",
    "                      epochs=epocs, mini_batch_size=100,\n",
    "                      optimizer='sgd', optimizer_param={'lr': lr}, verbose=False)\n",
    "    trainer.train()\n",
    "\n",
    "    return trainer.test_acc_list, trainer.train_acc_list"
   ]
  },
  {
   "cell_type": "code",
   "execution_count": null,
   "id": "abf11ca4",
   "metadata": {},
   "outputs": [],
   "source": [
    "# 하이퍼파라미터 무작위 탐색======================================\n",
    "optimization_trial = 100\n",
    "results_val = {}\n",
    "results_train = {}\n",
    "for _ in range(optimization_trial): #100번 시행!\n",
    "    # 탐색한 하이퍼파라미터의 범위 지정===============\n",
    "    weight_decay = 10 ** np.random.uniform(-8, -4)\n",
    "    lr = 10 ** np.random.uniform(-6, -2)\n",
    "    # ================================================\n",
    "\n",
    "    val_acc_list, train_acc_list = __train(lr, weight_decay)\n",
    "    print(\"val acc:\" + str(val_acc_list[-1]) + \" | lr:\" + str(lr) + \", weight decay:\" + str(weight_decay))\n",
    "    key = \"lr:\" + str(lr) + \", weight decay:\" + str(weight_decay)\n",
    "    results_val[key] = val_acc_list # put accuracy in dictionary\n",
    "    results_train[key] = train_acc_list"
   ]
  },
  {
   "cell_type": "code",
   "execution_count": null,
   "id": "c5091160",
   "metadata": {},
   "outputs": [],
   "source": [
    "# 그래프 그리기========================================================\n",
    "print(\"=========== Hyper-Parameter Optimization Result ===========\")\n",
    "graph_draw_num = 20 #draw 20 of the best ones\n",
    "col_num = 5\n",
    "row_num = int(np.ceil(graph_draw_num / col_num)) #4\n",
    "i = 0\n",
    "\n",
    "for key, val_acc_list in sorted(results_val.items(), key=lambda x:x[1][-1], reverse=True):\n",
    "    print(\"Best-\" + str(i+1) + \"(val acc:\" + str(val_acc_list[-1]) + \") | \" + key)\n",
    "\n",
    "    plt.subplot(row_num, col_num, i+1)\n",
    "    plt.title(\"Best-\" + str(i+1))\n",
    "    plt.ylim(0.0, 1.0)\n",
    "    if i % 5: plt.yticks([])\n",
    "    plt.xticks([])\n",
    "    x = np.arange(len(val_acc_list))\n",
    "    plt.plot(x, val_acc_list)\n",
    "    plt.plot(x, results_train[key], \"--\")\n",
    "    i += 1\n",
    "\n",
    "    if i >= graph_draw_num:\n",
    "        break\n",
    "\n",
    "plt.show()"
   ]
  },
  {
   "cell_type": "code",
   "execution_count": null,
   "id": "1a9e5186",
   "metadata": {},
   "outputs": [],
   "source": []
  }
 ],
 "metadata": {
  "kernelspec": {
   "display_name": "Python [conda env:HOML]",
   "language": "python",
   "name": "conda-env-HOML-py"
  },
  "language_info": {
   "codemirror_mode": {
    "name": "ipython",
    "version": 3
   },
   "file_extension": ".py",
   "mimetype": "text/x-python",
   "name": "python",
   "nbconvert_exporter": "python",
   "pygments_lexer": "ipython3",
   "version": "3.10.3"
  }
 },
 "nbformat": 4,
 "nbformat_minor": 5
}
